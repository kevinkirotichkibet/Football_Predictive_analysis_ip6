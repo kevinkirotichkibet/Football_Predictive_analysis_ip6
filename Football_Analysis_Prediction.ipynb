{
  "nbformat": 4,
  "nbformat_minor": 0,
  "metadata": {
    "colab": {
      "name": "Football-Analysis-Prediction.ipynb",
      "provenance": [],
      "collapsed_sections": []
    },
    "kernelspec": {
      "name": "python3",
      "display_name": "Python 3"
    },
    "language_info": {
      "name": "python"
    }
  },
  "cells": [
    {
      "cell_type": "markdown",
      "metadata": {
        "id": "-xYyGmcWPQdg"
      },
      "source": [
        "## Research Problem\n",
        "\n",
        "As a football analyst you have been tasked to create a model to predict the result of a game between team 1 and 2 based on who is home and who's away, and whether or not the game is friendly for Mchezopesa Ltd."
      ]
    },
    {
      "cell_type": "code",
      "metadata": {
        "id": "VKZVY0L-PPU8"
      },
      "source": [
        "#importing our libraries\n",
        "import pandas as pd\n",
        "import numpy as np\n",
        "import matplotlib.pyplot as plt\n",
        "import seaborn as sns\n",
        "from sklearn.preprocessing  import LabelEncoder\n",
        "from sklearn.preprocessing import StandardScaler,PolynomialFeatures\n",
        "from sklearn.model_selection import KFold\n",
        "from sklearn.linear_model import LogisticRegression,LinearRegression\n",
        "from sklearn.model_selection import train_test_split,GridSearchCV\n",
        "import datetime as dt\n",
        "import warnings\n",
        "warnings.filterwarnings('ignore')"
      ],
      "execution_count": null,
      "outputs": []
    },
    {
      "cell_type": "markdown",
      "metadata": {
        "id": "pEcWMtMIaLLM"
      },
      "source": [
        "Importing our datasets"
      ]
    },
    {
      "cell_type": "code",
      "metadata": {
        "id": "kSuRGmL9aKfa"
      },
      "source": [
        "## import our datas\n",
        "df_ranking=pd.read_csv('/content/fifa_ranking.csv')\n",
        "df_result=pd.read_csv('/content/results.csv')"
      ],
      "execution_count": null,
      "outputs": []
    },
    {
      "cell_type": "code",
      "metadata": {
        "colab": {
          "base_uri": "https://localhost:8080/",
          "height": 601
        },
        "id": "GXgr6EUhaH--",
        "outputId": "07404b1e-8562-491c-80e1-51d0f822093d"
      },
      "source": [
        "df_ranking"
      ],
      "execution_count": null,
      "outputs": [
        {
          "output_type": "execute_result",
          "data": {
            "text/html": [
              "<div>\n",
              "<style scoped>\n",
              "    .dataframe tbody tr th:only-of-type {\n",
              "        vertical-align: middle;\n",
              "    }\n",
              "\n",
              "    .dataframe tbody tr th {\n",
              "        vertical-align: top;\n",
              "    }\n",
              "\n",
              "    .dataframe thead th {\n",
              "        text-align: right;\n",
              "    }\n",
              "</style>\n",
              "<table border=\"1\" class=\"dataframe\">\n",
              "  <thead>\n",
              "    <tr style=\"text-align: right;\">\n",
              "      <th></th>\n",
              "      <th>rank</th>\n",
              "      <th>country_full</th>\n",
              "      <th>country_abrv</th>\n",
              "      <th>total_points</th>\n",
              "      <th>previous_points</th>\n",
              "      <th>rank_change</th>\n",
              "      <th>cur_year_avg</th>\n",
              "      <th>cur_year_avg_weighted</th>\n",
              "      <th>last_year_avg</th>\n",
              "      <th>last_year_avg_weighted</th>\n",
              "      <th>two_year_ago_avg</th>\n",
              "      <th>two_year_ago_weighted</th>\n",
              "      <th>three_year_ago_avg</th>\n",
              "      <th>three_year_ago_weighted</th>\n",
              "      <th>confederation</th>\n",
              "      <th>rank_date</th>\n",
              "    </tr>\n",
              "  </thead>\n",
              "  <tbody>\n",
              "    <tr>\n",
              "      <th>0</th>\n",
              "      <td>1</td>\n",
              "      <td>Germany</td>\n",
              "      <td>GER</td>\n",
              "      <td>0.0</td>\n",
              "      <td>57</td>\n",
              "      <td>0</td>\n",
              "      <td>0.0</td>\n",
              "      <td>0.0</td>\n",
              "      <td>0.0</td>\n",
              "      <td>0.0</td>\n",
              "      <td>0.0</td>\n",
              "      <td>0.0</td>\n",
              "      <td>0.0</td>\n",
              "      <td>0.0</td>\n",
              "      <td>UEFA</td>\n",
              "      <td>1993-08-08</td>\n",
              "    </tr>\n",
              "    <tr>\n",
              "      <th>1</th>\n",
              "      <td>2</td>\n",
              "      <td>Italy</td>\n",
              "      <td>ITA</td>\n",
              "      <td>0.0</td>\n",
              "      <td>57</td>\n",
              "      <td>0</td>\n",
              "      <td>0.0</td>\n",
              "      <td>0.0</td>\n",
              "      <td>0.0</td>\n",
              "      <td>0.0</td>\n",
              "      <td>0.0</td>\n",
              "      <td>0.0</td>\n",
              "      <td>0.0</td>\n",
              "      <td>0.0</td>\n",
              "      <td>UEFA</td>\n",
              "      <td>1993-08-08</td>\n",
              "    </tr>\n",
              "    <tr>\n",
              "      <th>2</th>\n",
              "      <td>3</td>\n",
              "      <td>Switzerland</td>\n",
              "      <td>SUI</td>\n",
              "      <td>0.0</td>\n",
              "      <td>50</td>\n",
              "      <td>9</td>\n",
              "      <td>0.0</td>\n",
              "      <td>0.0</td>\n",
              "      <td>0.0</td>\n",
              "      <td>0.0</td>\n",
              "      <td>0.0</td>\n",
              "      <td>0.0</td>\n",
              "      <td>0.0</td>\n",
              "      <td>0.0</td>\n",
              "      <td>UEFA</td>\n",
              "      <td>1993-08-08</td>\n",
              "    </tr>\n",
              "    <tr>\n",
              "      <th>3</th>\n",
              "      <td>4</td>\n",
              "      <td>Sweden</td>\n",
              "      <td>SWE</td>\n",
              "      <td>0.0</td>\n",
              "      <td>55</td>\n",
              "      <td>0</td>\n",
              "      <td>0.0</td>\n",
              "      <td>0.0</td>\n",
              "      <td>0.0</td>\n",
              "      <td>0.0</td>\n",
              "      <td>0.0</td>\n",
              "      <td>0.0</td>\n",
              "      <td>0.0</td>\n",
              "      <td>0.0</td>\n",
              "      <td>UEFA</td>\n",
              "      <td>1993-08-08</td>\n",
              "    </tr>\n",
              "    <tr>\n",
              "      <th>4</th>\n",
              "      <td>5</td>\n",
              "      <td>Argentina</td>\n",
              "      <td>ARG</td>\n",
              "      <td>0.0</td>\n",
              "      <td>51</td>\n",
              "      <td>5</td>\n",
              "      <td>0.0</td>\n",
              "      <td>0.0</td>\n",
              "      <td>0.0</td>\n",
              "      <td>0.0</td>\n",
              "      <td>0.0</td>\n",
              "      <td>0.0</td>\n",
              "      <td>0.0</td>\n",
              "      <td>0.0</td>\n",
              "      <td>CONMEBOL</td>\n",
              "      <td>1993-08-08</td>\n",
              "    </tr>\n",
              "    <tr>\n",
              "      <th>...</th>\n",
              "      <td>...</td>\n",
              "      <td>...</td>\n",
              "      <td>...</td>\n",
              "      <td>...</td>\n",
              "      <td>...</td>\n",
              "      <td>...</td>\n",
              "      <td>...</td>\n",
              "      <td>...</td>\n",
              "      <td>...</td>\n",
              "      <td>...</td>\n",
              "      <td>...</td>\n",
              "      <td>...</td>\n",
              "      <td>...</td>\n",
              "      <td>...</td>\n",
              "      <td>...</td>\n",
              "      <td>...</td>\n",
              "    </tr>\n",
              "    <tr>\n",
              "      <th>57788</th>\n",
              "      <td>206</td>\n",
              "      <td>Anguilla</td>\n",
              "      <td>AIA</td>\n",
              "      <td>0.0</td>\n",
              "      <td>0</td>\n",
              "      <td>1</td>\n",
              "      <td>0.0</td>\n",
              "      <td>0.0</td>\n",
              "      <td>0.0</td>\n",
              "      <td>0.0</td>\n",
              "      <td>0.0</td>\n",
              "      <td>0.0</td>\n",
              "      <td>0.0</td>\n",
              "      <td>0.0</td>\n",
              "      <td>CONCACAF</td>\n",
              "      <td>2018-06-07</td>\n",
              "    </tr>\n",
              "    <tr>\n",
              "      <th>57789</th>\n",
              "      <td>206</td>\n",
              "      <td>Bahamas</td>\n",
              "      <td>BAH</td>\n",
              "      <td>0.0</td>\n",
              "      <td>0</td>\n",
              "      <td>1</td>\n",
              "      <td>0.0</td>\n",
              "      <td>0.0</td>\n",
              "      <td>0.0</td>\n",
              "      <td>0.0</td>\n",
              "      <td>0.0</td>\n",
              "      <td>0.0</td>\n",
              "      <td>0.0</td>\n",
              "      <td>0.0</td>\n",
              "      <td>CONCACAF</td>\n",
              "      <td>2018-06-07</td>\n",
              "    </tr>\n",
              "    <tr>\n",
              "      <th>57790</th>\n",
              "      <td>206</td>\n",
              "      <td>Eritrea</td>\n",
              "      <td>ERI</td>\n",
              "      <td>0.0</td>\n",
              "      <td>0</td>\n",
              "      <td>1</td>\n",
              "      <td>0.0</td>\n",
              "      <td>0.0</td>\n",
              "      <td>0.0</td>\n",
              "      <td>0.0</td>\n",
              "      <td>0.0</td>\n",
              "      <td>0.0</td>\n",
              "      <td>0.0</td>\n",
              "      <td>0.0</td>\n",
              "      <td>CAF</td>\n",
              "      <td>2018-06-07</td>\n",
              "    </tr>\n",
              "    <tr>\n",
              "      <th>57791</th>\n",
              "      <td>206</td>\n",
              "      <td>Somalia</td>\n",
              "      <td>SOM</td>\n",
              "      <td>0.0</td>\n",
              "      <td>0</td>\n",
              "      <td>1</td>\n",
              "      <td>0.0</td>\n",
              "      <td>0.0</td>\n",
              "      <td>0.0</td>\n",
              "      <td>0.0</td>\n",
              "      <td>0.0</td>\n",
              "      <td>0.0</td>\n",
              "      <td>0.0</td>\n",
              "      <td>0.0</td>\n",
              "      <td>CAF</td>\n",
              "      <td>2018-06-07</td>\n",
              "    </tr>\n",
              "    <tr>\n",
              "      <th>57792</th>\n",
              "      <td>206</td>\n",
              "      <td>Tonga</td>\n",
              "      <td>TGA</td>\n",
              "      <td>0.0</td>\n",
              "      <td>0</td>\n",
              "      <td>1</td>\n",
              "      <td>0.0</td>\n",
              "      <td>0.0</td>\n",
              "      <td>0.0</td>\n",
              "      <td>0.0</td>\n",
              "      <td>0.0</td>\n",
              "      <td>0.0</td>\n",
              "      <td>0.0</td>\n",
              "      <td>0.0</td>\n",
              "      <td>OFC</td>\n",
              "      <td>2018-06-07</td>\n",
              "    </tr>\n",
              "  </tbody>\n",
              "</table>\n",
              "<p>57793 rows × 16 columns</p>\n",
              "</div>"
            ],
            "text/plain": [
              "       rank country_full  ... confederation   rank_date\n",
              "0         1      Germany  ...          UEFA  1993-08-08\n",
              "1         2        Italy  ...          UEFA  1993-08-08\n",
              "2         3  Switzerland  ...          UEFA  1993-08-08\n",
              "3         4       Sweden  ...          UEFA  1993-08-08\n",
              "4         5    Argentina  ...      CONMEBOL  1993-08-08\n",
              "...     ...          ...  ...           ...         ...\n",
              "57788   206     Anguilla  ...      CONCACAF  2018-06-07\n",
              "57789   206      Bahamas  ...      CONCACAF  2018-06-07\n",
              "57790   206      Eritrea  ...           CAF  2018-06-07\n",
              "57791   206      Somalia  ...           CAF  2018-06-07\n",
              "57792   206        Tonga  ...           OFC  2018-06-07\n",
              "\n",
              "[57793 rows x 16 columns]"
            ]
          },
          "metadata": {
            "tags": []
          },
          "execution_count": 3
        }
      ]
    },
    {
      "cell_type": "code",
      "metadata": {
        "colab": {
          "base_uri": "https://localhost:8080/",
          "height": 414
        },
        "id": "XxWck169c_g5",
        "outputId": "f2820487-3cd6-47b6-8f67-379cf39c0bbf"
      },
      "source": [
        "df_result"
      ],
      "execution_count": null,
      "outputs": [
        {
          "output_type": "execute_result",
          "data": {
            "text/html": [
              "<div>\n",
              "<style scoped>\n",
              "    .dataframe tbody tr th:only-of-type {\n",
              "        vertical-align: middle;\n",
              "    }\n",
              "\n",
              "    .dataframe tbody tr th {\n",
              "        vertical-align: top;\n",
              "    }\n",
              "\n",
              "    .dataframe thead th {\n",
              "        text-align: right;\n",
              "    }\n",
              "</style>\n",
              "<table border=\"1\" class=\"dataframe\">\n",
              "  <thead>\n",
              "    <tr style=\"text-align: right;\">\n",
              "      <th></th>\n",
              "      <th>date</th>\n",
              "      <th>home_team</th>\n",
              "      <th>away_team</th>\n",
              "      <th>home_score</th>\n",
              "      <th>away_score</th>\n",
              "      <th>tournament</th>\n",
              "      <th>city</th>\n",
              "      <th>country</th>\n",
              "      <th>neutral</th>\n",
              "    </tr>\n",
              "  </thead>\n",
              "  <tbody>\n",
              "    <tr>\n",
              "      <th>0</th>\n",
              "      <td>1872-11-30</td>\n",
              "      <td>Scotland</td>\n",
              "      <td>England</td>\n",
              "      <td>0</td>\n",
              "      <td>0</td>\n",
              "      <td>Friendly</td>\n",
              "      <td>Glasgow</td>\n",
              "      <td>Scotland</td>\n",
              "      <td>False</td>\n",
              "    </tr>\n",
              "    <tr>\n",
              "      <th>1</th>\n",
              "      <td>1873-03-08</td>\n",
              "      <td>England</td>\n",
              "      <td>Scotland</td>\n",
              "      <td>4</td>\n",
              "      <td>2</td>\n",
              "      <td>Friendly</td>\n",
              "      <td>London</td>\n",
              "      <td>England</td>\n",
              "      <td>False</td>\n",
              "    </tr>\n",
              "    <tr>\n",
              "      <th>2</th>\n",
              "      <td>1874-03-07</td>\n",
              "      <td>Scotland</td>\n",
              "      <td>England</td>\n",
              "      <td>2</td>\n",
              "      <td>1</td>\n",
              "      <td>Friendly</td>\n",
              "      <td>Glasgow</td>\n",
              "      <td>Scotland</td>\n",
              "      <td>False</td>\n",
              "    </tr>\n",
              "    <tr>\n",
              "      <th>3</th>\n",
              "      <td>1875-03-06</td>\n",
              "      <td>England</td>\n",
              "      <td>Scotland</td>\n",
              "      <td>2</td>\n",
              "      <td>2</td>\n",
              "      <td>Friendly</td>\n",
              "      <td>London</td>\n",
              "      <td>England</td>\n",
              "      <td>False</td>\n",
              "    </tr>\n",
              "    <tr>\n",
              "      <th>4</th>\n",
              "      <td>1876-03-04</td>\n",
              "      <td>Scotland</td>\n",
              "      <td>England</td>\n",
              "      <td>3</td>\n",
              "      <td>0</td>\n",
              "      <td>Friendly</td>\n",
              "      <td>Glasgow</td>\n",
              "      <td>Scotland</td>\n",
              "      <td>False</td>\n",
              "    </tr>\n",
              "    <tr>\n",
              "      <th>...</th>\n",
              "      <td>...</td>\n",
              "      <td>...</td>\n",
              "      <td>...</td>\n",
              "      <td>...</td>\n",
              "      <td>...</td>\n",
              "      <td>...</td>\n",
              "      <td>...</td>\n",
              "      <td>...</td>\n",
              "      <td>...</td>\n",
              "    </tr>\n",
              "    <tr>\n",
              "      <th>40834</th>\n",
              "      <td>2019-07-18</td>\n",
              "      <td>American Samoa</td>\n",
              "      <td>Tahiti</td>\n",
              "      <td>8</td>\n",
              "      <td>1</td>\n",
              "      <td>Pacific Games</td>\n",
              "      <td>Apia</td>\n",
              "      <td>Samoa</td>\n",
              "      <td>True</td>\n",
              "    </tr>\n",
              "    <tr>\n",
              "      <th>40835</th>\n",
              "      <td>2019-07-18</td>\n",
              "      <td>Fiji</td>\n",
              "      <td>Solomon Islands</td>\n",
              "      <td>4</td>\n",
              "      <td>4</td>\n",
              "      <td>Pacific Games</td>\n",
              "      <td>Apia</td>\n",
              "      <td>Samoa</td>\n",
              "      <td>True</td>\n",
              "    </tr>\n",
              "    <tr>\n",
              "      <th>40836</th>\n",
              "      <td>2019-07-19</td>\n",
              "      <td>Senegal</td>\n",
              "      <td>Algeria</td>\n",
              "      <td>0</td>\n",
              "      <td>1</td>\n",
              "      <td>African Cup of Nations</td>\n",
              "      <td>Cairo</td>\n",
              "      <td>Egypt</td>\n",
              "      <td>True</td>\n",
              "    </tr>\n",
              "    <tr>\n",
              "      <th>40837</th>\n",
              "      <td>2019-07-19</td>\n",
              "      <td>Tajikistan</td>\n",
              "      <td>North Korea</td>\n",
              "      <td>0</td>\n",
              "      <td>1</td>\n",
              "      <td>Intercontinental Cup</td>\n",
              "      <td>Ahmedabad</td>\n",
              "      <td>India</td>\n",
              "      <td>True</td>\n",
              "    </tr>\n",
              "    <tr>\n",
              "      <th>40838</th>\n",
              "      <td>2019-07-20</td>\n",
              "      <td>Papua New Guinea</td>\n",
              "      <td>Fiji</td>\n",
              "      <td>1</td>\n",
              "      <td>1</td>\n",
              "      <td>Pacific Games</td>\n",
              "      <td>Apia</td>\n",
              "      <td>Samoa</td>\n",
              "      <td>True</td>\n",
              "    </tr>\n",
              "  </tbody>\n",
              "</table>\n",
              "<p>40839 rows × 9 columns</p>\n",
              "</div>"
            ],
            "text/plain": [
              "             date         home_team  ...   country  neutral\n",
              "0      1872-11-30          Scotland  ...  Scotland    False\n",
              "1      1873-03-08           England  ...   England    False\n",
              "2      1874-03-07          Scotland  ...  Scotland    False\n",
              "3      1875-03-06           England  ...   England    False\n",
              "4      1876-03-04          Scotland  ...  Scotland    False\n",
              "...           ...               ...  ...       ...      ...\n",
              "40834  2019-07-18    American Samoa  ...     Samoa     True\n",
              "40835  2019-07-18              Fiji  ...     Samoa     True\n",
              "40836  2019-07-19           Senegal  ...     Egypt     True\n",
              "40837  2019-07-19        Tajikistan  ...     India     True\n",
              "40838  2019-07-20  Papua New Guinea  ...     Samoa     True\n",
              "\n",
              "[40839 rows x 9 columns]"
            ]
          },
          "metadata": {
            "tags": []
          },
          "execution_count": 4
        }
      ]
    },
    {
      "cell_type": "code",
      "metadata": {
        "colab": {
          "base_uri": "https://localhost:8080/"
        },
        "id": "W1en4NaHavvU",
        "outputId": "d7435999-2f1e-4819-fad4-6c2eecedf448"
      },
      "source": [
        "#Checking shape of dataframe\n",
        "print(\"Ranking dataframe shape is \", str(df_ranking.shape))\n",
        "print(\"Result dataframe shape is \", str(df_result.shape))"
      ],
      "execution_count": null,
      "outputs": [
        {
          "output_type": "stream",
          "text": [
            "Ranking dataframe shape is  (57793, 16)\n",
            "Result dataframe shape is  (40839, 9)\n"
          ],
          "name": "stdout"
        }
      ]
    },
    {
      "cell_type": "code",
      "metadata": {
        "colab": {
          "base_uri": "https://localhost:8080/"
        },
        "id": "G-5FwBefbyNS",
        "outputId": "983ac2ff-dab4-456a-b70c-d68332f19c54"
      },
      "source": [
        "df_ranking.info()"
      ],
      "execution_count": null,
      "outputs": [
        {
          "output_type": "stream",
          "text": [
            "<class 'pandas.core.frame.DataFrame'>\n",
            "RangeIndex: 57793 entries, 0 to 57792\n",
            "Data columns (total 16 columns):\n",
            " #   Column                   Non-Null Count  Dtype  \n",
            "---  ------                   --------------  -----  \n",
            " 0   rank                     57793 non-null  int64  \n",
            " 1   country_full             57793 non-null  object \n",
            " 2   country_abrv             57793 non-null  object \n",
            " 3   total_points             57793 non-null  float64\n",
            " 4   previous_points          57793 non-null  int64  \n",
            " 5   rank_change              57793 non-null  int64  \n",
            " 6   cur_year_avg             57793 non-null  float64\n",
            " 7   cur_year_avg_weighted    57793 non-null  float64\n",
            " 8   last_year_avg            57793 non-null  float64\n",
            " 9   last_year_avg_weighted   57793 non-null  float64\n",
            " 10  two_year_ago_avg         57793 non-null  float64\n",
            " 11  two_year_ago_weighted    57793 non-null  float64\n",
            " 12  three_year_ago_avg       57793 non-null  float64\n",
            " 13  three_year_ago_weighted  57793 non-null  float64\n",
            " 14  confederation            57793 non-null  object \n",
            " 15  rank_date                57793 non-null  object \n",
            "dtypes: float64(9), int64(3), object(4)\n",
            "memory usage: 7.1+ MB\n"
          ],
          "name": "stdout"
        }
      ]
    },
    {
      "cell_type": "code",
      "metadata": {
        "colab": {
          "base_uri": "https://localhost:8080/"
        },
        "id": "MANuwtPMcKFg",
        "outputId": "f7b87d50-7d11-4aa7-eda6-2ca40b0468bf"
      },
      "source": [
        "df_result.info()"
      ],
      "execution_count": null,
      "outputs": [
        {
          "output_type": "stream",
          "text": [
            "<class 'pandas.core.frame.DataFrame'>\n",
            "RangeIndex: 40839 entries, 0 to 40838\n",
            "Data columns (total 9 columns):\n",
            " #   Column      Non-Null Count  Dtype \n",
            "---  ------      --------------  ----- \n",
            " 0   date        40839 non-null  object\n",
            " 1   home_team   40839 non-null  object\n",
            " 2   away_team   40839 non-null  object\n",
            " 3   home_score  40839 non-null  int64 \n",
            " 4   away_score  40839 non-null  int64 \n",
            " 5   tournament  40839 non-null  object\n",
            " 6   city        40839 non-null  object\n",
            " 7   country     40839 non-null  object\n",
            " 8   neutral     40839 non-null  bool  \n",
            "dtypes: bool(1), int64(2), object(6)\n",
            "memory usage: 2.5+ MB\n"
          ],
          "name": "stdout"
        }
      ]
    },
    {
      "cell_type": "markdown",
      "metadata": {
        "id": "6xMi47zEcy7o"
      },
      "source": [
        "# Data Cleaning"
      ]
    },
    {
      "cell_type": "markdown",
      "metadata": {
        "id": "MfruAaxVemKC"
      },
      "source": [
        "Ranking started in the year 1993, from results table we have years below that."
      ]
    },
    {
      "cell_type": "code",
      "metadata": {
        "id": "J_KFr88ieTnR"
      },
      "source": [
        "df_result['date'].unique().tolist()\n",
        "df_result.date = pd.to_datetime(df_result.date)"
      ],
      "execution_count": null,
      "outputs": []
    },
    {
      "cell_type": "code",
      "metadata": {
        "colab": {
          "base_uri": "https://localhost:8080/"
        },
        "id": "CzVFBDs5dNEF",
        "outputId": "e1659b79-1e24-4172-9f8d-571828a8bb29"
      },
      "source": [
        "df_result.dtypes"
      ],
      "execution_count": null,
      "outputs": [
        {
          "output_type": "execute_result",
          "data": {
            "text/plain": [
              "date          datetime64[ns]\n",
              "home_team             object\n",
              "away_team             object\n",
              "home_score             int64\n",
              "away_score             int64\n",
              "tournament            object\n",
              "city                  object\n",
              "country               object\n",
              "neutral                 bool\n",
              "dtype: object"
            ]
          },
          "metadata": {
            "tags": []
          },
          "execution_count": 9
        }
      ]
    },
    {
      "cell_type": "markdown",
      "metadata": {
        "id": "ZwovWCW0gHTO"
      },
      "source": [
        "### Dropping dates earlier than 1993"
      ]
    },
    {
      "cell_type": "code",
      "metadata": {
        "id": "O7xMp7EnfiCe"
      },
      "source": [
        "df_result = df_result.drop(df_result[(df_result.date < '1993-08-08')].index)"
      ],
      "execution_count": null,
      "outputs": []
    },
    {
      "cell_type": "code",
      "metadata": {
        "colab": {
          "base_uri": "https://localhost:8080/"
        },
        "id": "oR_7WD2xgGUv",
        "outputId": "0552f1ec-cb9d-4373-c74b-c9e949d8038a"
      },
      "source": [
        "df_result.shape"
      ],
      "execution_count": null,
      "outputs": [
        {
          "output_type": "execute_result",
          "data": {
            "text/plain": [
              "(22924, 9)"
            ]
          },
          "metadata": {
            "tags": []
          },
          "execution_count": 11
        }
      ]
    },
    {
      "cell_type": "markdown",
      "metadata": {
        "id": "FhpelWDrlv4v"
      },
      "source": [
        "### cleaning dataset"
      ]
    },
    {
      "cell_type": "code",
      "metadata": {
        "colab": {
          "base_uri": "https://localhost:8080/"
        },
        "id": "xY1s8XH7nYLY",
        "outputId": "c0404371-298b-4937-beff-1618a75ebba8"
      },
      "source": [
        "#checking columns in result dataframe\n",
        "df_ranking.columns"
      ],
      "execution_count": null,
      "outputs": [
        {
          "output_type": "execute_result",
          "data": {
            "text/plain": [
              "Index(['rank', 'country_full', 'country_abrv', 'total_points',\n",
              "       'previous_points', 'rank_change', 'cur_year_avg',\n",
              "       'cur_year_avg_weighted', 'last_year_avg', 'last_year_avg_weighted',\n",
              "       'two_year_ago_avg', 'two_year_ago_weighted', 'three_year_ago_avg',\n",
              "       'three_year_ago_weighted', 'confederation', 'rank_date'],\n",
              "      dtype='object')"
            ]
          },
          "metadata": {
            "tags": []
          },
          "execution_count": 12
        }
      ]
    },
    {
      "cell_type": "code",
      "metadata": {
        "colab": {
          "base_uri": "https://localhost:8080/"
        },
        "id": "fVSgTTwLluFj",
        "outputId": "155130ed-8de2-4ee8-cb1b-0d7941c45478"
      },
      "source": [
        "df_ranking.isnull().any()"
      ],
      "execution_count": null,
      "outputs": [
        {
          "output_type": "execute_result",
          "data": {
            "text/plain": [
              "rank                       False\n",
              "country_full               False\n",
              "country_abrv               False\n",
              "total_points               False\n",
              "previous_points            False\n",
              "rank_change                False\n",
              "cur_year_avg               False\n",
              "cur_year_avg_weighted      False\n",
              "last_year_avg              False\n",
              "last_year_avg_weighted     False\n",
              "two_year_ago_avg           False\n",
              "two_year_ago_weighted      False\n",
              "three_year_ago_avg         False\n",
              "three_year_ago_weighted    False\n",
              "confederation              False\n",
              "rank_date                  False\n",
              "dtype: bool"
            ]
          },
          "metadata": {
            "tags": []
          },
          "execution_count": 13
        }
      ]
    },
    {
      "cell_type": "code",
      "metadata": {
        "colab": {
          "base_uri": "https://localhost:8080/"
        },
        "id": "ePNZes5onfbQ",
        "outputId": "5c4ba05f-0034-4c01-e3c1-f394fa9f05a5"
      },
      "source": [
        "#checking columns in result dataframe\n",
        "df_result.columns"
      ],
      "execution_count": null,
      "outputs": [
        {
          "output_type": "execute_result",
          "data": {
            "text/plain": [
              "Index(['date', 'home_team', 'away_team', 'home_score', 'away_score',\n",
              "       'tournament', 'city', 'country', 'neutral'],\n",
              "      dtype='object')"
            ]
          },
          "metadata": {
            "tags": []
          },
          "execution_count": 14
        }
      ]
    },
    {
      "cell_type": "code",
      "metadata": {
        "colab": {
          "base_uri": "https://localhost:8080/"
        },
        "id": "Xaz_ctKJmRXJ",
        "outputId": "0b62057c-f720-4738-e063-d811c149f237"
      },
      "source": [
        "df_result.isnull().any()"
      ],
      "execution_count": null,
      "outputs": [
        {
          "output_type": "execute_result",
          "data": {
            "text/plain": [
              "date          False\n",
              "home_team     False\n",
              "away_team     False\n",
              "home_score    False\n",
              "away_score    False\n",
              "tournament    False\n",
              "city          False\n",
              "country       False\n",
              "neutral       False\n",
              "dtype: bool"
            ]
          },
          "metadata": {
            "tags": []
          },
          "execution_count": 15
        }
      ]
    },
    {
      "cell_type": "code",
      "metadata": {
        "colab": {
          "base_uri": "https://localhost:8080/"
        },
        "id": "QypLr3UpnPnr",
        "outputId": "ab68a955-a56a-4fb7-fa48-00c46e9d472f"
      },
      "source": [
        "df_result.dtypes"
      ],
      "execution_count": null,
      "outputs": [
        {
          "output_type": "execute_result",
          "data": {
            "text/plain": [
              "date          datetime64[ns]\n",
              "home_team             object\n",
              "away_team             object\n",
              "home_score             int64\n",
              "away_score             int64\n",
              "tournament            object\n",
              "city                  object\n",
              "country               object\n",
              "neutral                 bool\n",
              "dtype: object"
            ]
          },
          "metadata": {
            "tags": []
          },
          "execution_count": 16
        }
      ]
    },
    {
      "cell_type": "code",
      "metadata": {
        "id": "GLxXPQF6oBKP"
      },
      "source": [
        "#separate date column to month and year\n",
        "df_result['month'] = df_result.date.dt.month\n",
        "df_result['year'] = df_result.date.dt.year"
      ],
      "execution_count": null,
      "outputs": []
    },
    {
      "cell_type": "code",
      "metadata": {
        "colab": {
          "base_uri": "https://localhost:8080/",
          "height": 202
        },
        "id": "2xO0zBVtobdI",
        "outputId": "3a8cf2ee-01fe-48a4-fecb-16a8d3066735"
      },
      "source": [
        "df_result.head()"
      ],
      "execution_count": null,
      "outputs": [
        {
          "output_type": "execute_result",
          "data": {
            "text/html": [
              "<div>\n",
              "<style scoped>\n",
              "    .dataframe tbody tr th:only-of-type {\n",
              "        vertical-align: middle;\n",
              "    }\n",
              "\n",
              "    .dataframe tbody tr th {\n",
              "        vertical-align: top;\n",
              "    }\n",
              "\n",
              "    .dataframe thead th {\n",
              "        text-align: right;\n",
              "    }\n",
              "</style>\n",
              "<table border=\"1\" class=\"dataframe\">\n",
              "  <thead>\n",
              "    <tr style=\"text-align: right;\">\n",
              "      <th></th>\n",
              "      <th>date</th>\n",
              "      <th>home_team</th>\n",
              "      <th>away_team</th>\n",
              "      <th>home_score</th>\n",
              "      <th>away_score</th>\n",
              "      <th>tournament</th>\n",
              "      <th>city</th>\n",
              "      <th>country</th>\n",
              "      <th>neutral</th>\n",
              "      <th>month</th>\n",
              "      <th>year</th>\n",
              "    </tr>\n",
              "  </thead>\n",
              "  <tbody>\n",
              "    <tr>\n",
              "      <th>17915</th>\n",
              "      <td>1993-08-08</td>\n",
              "      <td>Bolivia</td>\n",
              "      <td>Uruguay</td>\n",
              "      <td>3</td>\n",
              "      <td>1</td>\n",
              "      <td>FIFA World Cup qualification</td>\n",
              "      <td>La Paz</td>\n",
              "      <td>Bolivia</td>\n",
              "      <td>False</td>\n",
              "      <td>8</td>\n",
              "      <td>1993</td>\n",
              "    </tr>\n",
              "    <tr>\n",
              "      <th>17916</th>\n",
              "      <td>1993-08-08</td>\n",
              "      <td>Brazil</td>\n",
              "      <td>Mexico</td>\n",
              "      <td>1</td>\n",
              "      <td>1</td>\n",
              "      <td>Friendly</td>\n",
              "      <td>Maceió</td>\n",
              "      <td>Brazil</td>\n",
              "      <td>False</td>\n",
              "      <td>8</td>\n",
              "      <td>1993</td>\n",
              "    </tr>\n",
              "    <tr>\n",
              "      <th>17917</th>\n",
              "      <td>1993-08-08</td>\n",
              "      <td>Ecuador</td>\n",
              "      <td>Venezuela</td>\n",
              "      <td>5</td>\n",
              "      <td>0</td>\n",
              "      <td>FIFA World Cup qualification</td>\n",
              "      <td>Quito</td>\n",
              "      <td>Ecuador</td>\n",
              "      <td>False</td>\n",
              "      <td>8</td>\n",
              "      <td>1993</td>\n",
              "    </tr>\n",
              "    <tr>\n",
              "      <th>17918</th>\n",
              "      <td>1993-08-08</td>\n",
              "      <td>Guinea</td>\n",
              "      <td>Sierra Leone</td>\n",
              "      <td>1</td>\n",
              "      <td>0</td>\n",
              "      <td>Friendly</td>\n",
              "      <td>Conakry</td>\n",
              "      <td>Guinea</td>\n",
              "      <td>False</td>\n",
              "      <td>8</td>\n",
              "      <td>1993</td>\n",
              "    </tr>\n",
              "    <tr>\n",
              "      <th>17919</th>\n",
              "      <td>1993-08-08</td>\n",
              "      <td>Paraguay</td>\n",
              "      <td>Argentina</td>\n",
              "      <td>1</td>\n",
              "      <td>3</td>\n",
              "      <td>FIFA World Cup qualification</td>\n",
              "      <td>Asunción</td>\n",
              "      <td>Paraguay</td>\n",
              "      <td>False</td>\n",
              "      <td>8</td>\n",
              "      <td>1993</td>\n",
              "    </tr>\n",
              "  </tbody>\n",
              "</table>\n",
              "</div>"
            ],
            "text/plain": [
              "            date home_team     away_team  ...  neutral  month  year\n",
              "17915 1993-08-08   Bolivia       Uruguay  ...    False      8  1993\n",
              "17916 1993-08-08    Brazil        Mexico  ...    False      8  1993\n",
              "17917 1993-08-08   Ecuador     Venezuela  ...    False      8  1993\n",
              "17918 1993-08-08    Guinea  Sierra Leone  ...    False      8  1993\n",
              "17919 1993-08-08  Paraguay     Argentina  ...    False      8  1993\n",
              "\n",
              "[5 rows x 11 columns]"
            ]
          },
          "metadata": {
            "tags": []
          },
          "execution_count": 18
        }
      ]
    },
    {
      "cell_type": "code",
      "metadata": {
        "id": "nYiEMnl0pBhc"
      },
      "source": [
        "df_ranking.rank_date = pd.to_datetime(df_ranking.rank_date)"
      ],
      "execution_count": null,
      "outputs": []
    },
    {
      "cell_type": "code",
      "metadata": {
        "id": "Oy41qabeo4xx"
      },
      "source": [
        "#separate date column to month and year\n",
        "df_ranking['month'] = df_ranking.rank_date.dt.month\n",
        "df_ranking['year'] = df_ranking.rank_date.dt.year"
      ],
      "execution_count": null,
      "outputs": []
    },
    {
      "cell_type": "code",
      "metadata": {
        "colab": {
          "base_uri": "https://localhost:8080/",
          "height": 305
        },
        "id": "0BJOc0q0psv_",
        "outputId": "18654925-6c18-404a-dd29-b10fd6464269"
      },
      "source": [
        "df_ranking.head()"
      ],
      "execution_count": null,
      "outputs": [
        {
          "output_type": "execute_result",
          "data": {
            "text/html": [
              "<div>\n",
              "<style scoped>\n",
              "    .dataframe tbody tr th:only-of-type {\n",
              "        vertical-align: middle;\n",
              "    }\n",
              "\n",
              "    .dataframe tbody tr th {\n",
              "        vertical-align: top;\n",
              "    }\n",
              "\n",
              "    .dataframe thead th {\n",
              "        text-align: right;\n",
              "    }\n",
              "</style>\n",
              "<table border=\"1\" class=\"dataframe\">\n",
              "  <thead>\n",
              "    <tr style=\"text-align: right;\">\n",
              "      <th></th>\n",
              "      <th>rank</th>\n",
              "      <th>country_full</th>\n",
              "      <th>country_abrv</th>\n",
              "      <th>total_points</th>\n",
              "      <th>previous_points</th>\n",
              "      <th>rank_change</th>\n",
              "      <th>cur_year_avg</th>\n",
              "      <th>cur_year_avg_weighted</th>\n",
              "      <th>last_year_avg</th>\n",
              "      <th>last_year_avg_weighted</th>\n",
              "      <th>two_year_ago_avg</th>\n",
              "      <th>two_year_ago_weighted</th>\n",
              "      <th>three_year_ago_avg</th>\n",
              "      <th>three_year_ago_weighted</th>\n",
              "      <th>confederation</th>\n",
              "      <th>rank_date</th>\n",
              "      <th>month</th>\n",
              "      <th>year</th>\n",
              "    </tr>\n",
              "  </thead>\n",
              "  <tbody>\n",
              "    <tr>\n",
              "      <th>0</th>\n",
              "      <td>1</td>\n",
              "      <td>Germany</td>\n",
              "      <td>GER</td>\n",
              "      <td>0.0</td>\n",
              "      <td>57</td>\n",
              "      <td>0</td>\n",
              "      <td>0.0</td>\n",
              "      <td>0.0</td>\n",
              "      <td>0.0</td>\n",
              "      <td>0.0</td>\n",
              "      <td>0.0</td>\n",
              "      <td>0.0</td>\n",
              "      <td>0.0</td>\n",
              "      <td>0.0</td>\n",
              "      <td>UEFA</td>\n",
              "      <td>1993-08-08</td>\n",
              "      <td>8</td>\n",
              "      <td>1993</td>\n",
              "    </tr>\n",
              "    <tr>\n",
              "      <th>1</th>\n",
              "      <td>2</td>\n",
              "      <td>Italy</td>\n",
              "      <td>ITA</td>\n",
              "      <td>0.0</td>\n",
              "      <td>57</td>\n",
              "      <td>0</td>\n",
              "      <td>0.0</td>\n",
              "      <td>0.0</td>\n",
              "      <td>0.0</td>\n",
              "      <td>0.0</td>\n",
              "      <td>0.0</td>\n",
              "      <td>0.0</td>\n",
              "      <td>0.0</td>\n",
              "      <td>0.0</td>\n",
              "      <td>UEFA</td>\n",
              "      <td>1993-08-08</td>\n",
              "      <td>8</td>\n",
              "      <td>1993</td>\n",
              "    </tr>\n",
              "    <tr>\n",
              "      <th>2</th>\n",
              "      <td>3</td>\n",
              "      <td>Switzerland</td>\n",
              "      <td>SUI</td>\n",
              "      <td>0.0</td>\n",
              "      <td>50</td>\n",
              "      <td>9</td>\n",
              "      <td>0.0</td>\n",
              "      <td>0.0</td>\n",
              "      <td>0.0</td>\n",
              "      <td>0.0</td>\n",
              "      <td>0.0</td>\n",
              "      <td>0.0</td>\n",
              "      <td>0.0</td>\n",
              "      <td>0.0</td>\n",
              "      <td>UEFA</td>\n",
              "      <td>1993-08-08</td>\n",
              "      <td>8</td>\n",
              "      <td>1993</td>\n",
              "    </tr>\n",
              "    <tr>\n",
              "      <th>3</th>\n",
              "      <td>4</td>\n",
              "      <td>Sweden</td>\n",
              "      <td>SWE</td>\n",
              "      <td>0.0</td>\n",
              "      <td>55</td>\n",
              "      <td>0</td>\n",
              "      <td>0.0</td>\n",
              "      <td>0.0</td>\n",
              "      <td>0.0</td>\n",
              "      <td>0.0</td>\n",
              "      <td>0.0</td>\n",
              "      <td>0.0</td>\n",
              "      <td>0.0</td>\n",
              "      <td>0.0</td>\n",
              "      <td>UEFA</td>\n",
              "      <td>1993-08-08</td>\n",
              "      <td>8</td>\n",
              "      <td>1993</td>\n",
              "    </tr>\n",
              "    <tr>\n",
              "      <th>4</th>\n",
              "      <td>5</td>\n",
              "      <td>Argentina</td>\n",
              "      <td>ARG</td>\n",
              "      <td>0.0</td>\n",
              "      <td>51</td>\n",
              "      <td>5</td>\n",
              "      <td>0.0</td>\n",
              "      <td>0.0</td>\n",
              "      <td>0.0</td>\n",
              "      <td>0.0</td>\n",
              "      <td>0.0</td>\n",
              "      <td>0.0</td>\n",
              "      <td>0.0</td>\n",
              "      <td>0.0</td>\n",
              "      <td>CONMEBOL</td>\n",
              "      <td>1993-08-08</td>\n",
              "      <td>8</td>\n",
              "      <td>1993</td>\n",
              "    </tr>\n",
              "  </tbody>\n",
              "</table>\n",
              "</div>"
            ],
            "text/plain": [
              "   rank country_full country_abrv  ...  rank_date  month  year\n",
              "0     1      Germany          GER  ... 1993-08-08      8  1993\n",
              "1     2        Italy          ITA  ... 1993-08-08      8  1993\n",
              "2     3  Switzerland          SUI  ... 1993-08-08      8  1993\n",
              "3     4       Sweden          SWE  ... 1993-08-08      8  1993\n",
              "4     5    Argentina          ARG  ... 1993-08-08      8  1993\n",
              "\n",
              "[5 rows x 18 columns]"
            ]
          },
          "metadata": {
            "tags": []
          },
          "execution_count": 21
        }
      ]
    },
    {
      "cell_type": "code",
      "metadata": {
        "colab": {
          "base_uri": "https://localhost:8080/",
          "height": 355
        },
        "id": "cSftjiOgqpSU",
        "outputId": "c43fb16d-2201-4a26-b5ba-d9a6f91ef303"
      },
      "source": [
        "#merged data of home teams dataframe\n",
        "home_team =  pd.merge(df_result,df_ranking, how= 'left', left_on= ['year','month','home_team'], right_on=['year','month','country_full'])\n",
        "#rename the rank to hometeam_rank\n",
        "home_team.rename(columns={'rank':'hometeam_rank'},inplace=True)\n",
        "home_team.head()"
      ],
      "execution_count": null,
      "outputs": [
        {
          "output_type": "execute_result",
          "data": {
            "text/html": [
              "<div>\n",
              "<style scoped>\n",
              "    .dataframe tbody tr th:only-of-type {\n",
              "        vertical-align: middle;\n",
              "    }\n",
              "\n",
              "    .dataframe tbody tr th {\n",
              "        vertical-align: top;\n",
              "    }\n",
              "\n",
              "    .dataframe thead th {\n",
              "        text-align: right;\n",
              "    }\n",
              "</style>\n",
              "<table border=\"1\" class=\"dataframe\">\n",
              "  <thead>\n",
              "    <tr style=\"text-align: right;\">\n",
              "      <th></th>\n",
              "      <th>date</th>\n",
              "      <th>home_team</th>\n",
              "      <th>away_team</th>\n",
              "      <th>home_score</th>\n",
              "      <th>away_score</th>\n",
              "      <th>tournament</th>\n",
              "      <th>city</th>\n",
              "      <th>country</th>\n",
              "      <th>neutral</th>\n",
              "      <th>month</th>\n",
              "      <th>year</th>\n",
              "      <th>hometeam_rank</th>\n",
              "      <th>country_full</th>\n",
              "      <th>country_abrv</th>\n",
              "      <th>total_points</th>\n",
              "      <th>previous_points</th>\n",
              "      <th>rank_change</th>\n",
              "      <th>cur_year_avg</th>\n",
              "      <th>cur_year_avg_weighted</th>\n",
              "      <th>last_year_avg</th>\n",
              "      <th>last_year_avg_weighted</th>\n",
              "      <th>two_year_ago_avg</th>\n",
              "      <th>two_year_ago_weighted</th>\n",
              "      <th>three_year_ago_avg</th>\n",
              "      <th>three_year_ago_weighted</th>\n",
              "      <th>confederation</th>\n",
              "      <th>rank_date</th>\n",
              "    </tr>\n",
              "  </thead>\n",
              "  <tbody>\n",
              "    <tr>\n",
              "      <th>0</th>\n",
              "      <td>1993-08-08</td>\n",
              "      <td>Bolivia</td>\n",
              "      <td>Uruguay</td>\n",
              "      <td>3</td>\n",
              "      <td>1</td>\n",
              "      <td>FIFA World Cup qualification</td>\n",
              "      <td>La Paz</td>\n",
              "      <td>Bolivia</td>\n",
              "      <td>False</td>\n",
              "      <td>8</td>\n",
              "      <td>1993</td>\n",
              "      <td>59.0</td>\n",
              "      <td>Bolivia</td>\n",
              "      <td>BOL</td>\n",
              "      <td>0.0</td>\n",
              "      <td>13.0</td>\n",
              "      <td>28.0</td>\n",
              "      <td>0.0</td>\n",
              "      <td>0.0</td>\n",
              "      <td>0.0</td>\n",
              "      <td>0.0</td>\n",
              "      <td>0.0</td>\n",
              "      <td>0.0</td>\n",
              "      <td>0.0</td>\n",
              "      <td>0.0</td>\n",
              "      <td>CONMEBOL</td>\n",
              "      <td>1993-08-08</td>\n",
              "    </tr>\n",
              "    <tr>\n",
              "      <th>1</th>\n",
              "      <td>1993-08-08</td>\n",
              "      <td>Brazil</td>\n",
              "      <td>Mexico</td>\n",
              "      <td>1</td>\n",
              "      <td>1</td>\n",
              "      <td>Friendly</td>\n",
              "      <td>Maceió</td>\n",
              "      <td>Brazil</td>\n",
              "      <td>False</td>\n",
              "      <td>8</td>\n",
              "      <td>1993</td>\n",
              "      <td>8.0</td>\n",
              "      <td>Brazil</td>\n",
              "      <td>BRA</td>\n",
              "      <td>0.0</td>\n",
              "      <td>55.0</td>\n",
              "      <td>-5.0</td>\n",
              "      <td>0.0</td>\n",
              "      <td>0.0</td>\n",
              "      <td>0.0</td>\n",
              "      <td>0.0</td>\n",
              "      <td>0.0</td>\n",
              "      <td>0.0</td>\n",
              "      <td>0.0</td>\n",
              "      <td>0.0</td>\n",
              "      <td>CONMEBOL</td>\n",
              "      <td>1993-08-08</td>\n",
              "    </tr>\n",
              "    <tr>\n",
              "      <th>2</th>\n",
              "      <td>1993-08-08</td>\n",
              "      <td>Ecuador</td>\n",
              "      <td>Venezuela</td>\n",
              "      <td>5</td>\n",
              "      <td>0</td>\n",
              "      <td>FIFA World Cup qualification</td>\n",
              "      <td>Quito</td>\n",
              "      <td>Ecuador</td>\n",
              "      <td>False</td>\n",
              "      <td>8</td>\n",
              "      <td>1993</td>\n",
              "      <td>35.0</td>\n",
              "      <td>Ecuador</td>\n",
              "      <td>ECU</td>\n",
              "      <td>0.0</td>\n",
              "      <td>23.0</td>\n",
              "      <td>30.0</td>\n",
              "      <td>0.0</td>\n",
              "      <td>0.0</td>\n",
              "      <td>0.0</td>\n",
              "      <td>0.0</td>\n",
              "      <td>0.0</td>\n",
              "      <td>0.0</td>\n",
              "      <td>0.0</td>\n",
              "      <td>0.0</td>\n",
              "      <td>CONMEBOL</td>\n",
              "      <td>1993-08-08</td>\n",
              "    </tr>\n",
              "    <tr>\n",
              "      <th>3</th>\n",
              "      <td>1993-08-08</td>\n",
              "      <td>Guinea</td>\n",
              "      <td>Sierra Leone</td>\n",
              "      <td>1</td>\n",
              "      <td>0</td>\n",
              "      <td>Friendly</td>\n",
              "      <td>Conakry</td>\n",
              "      <td>Guinea</td>\n",
              "      <td>False</td>\n",
              "      <td>8</td>\n",
              "      <td>1993</td>\n",
              "      <td>65.0</td>\n",
              "      <td>Guinea</td>\n",
              "      <td>GUI</td>\n",
              "      <td>0.0</td>\n",
              "      <td>23.0</td>\n",
              "      <td>-2.0</td>\n",
              "      <td>0.0</td>\n",
              "      <td>0.0</td>\n",
              "      <td>0.0</td>\n",
              "      <td>0.0</td>\n",
              "      <td>0.0</td>\n",
              "      <td>0.0</td>\n",
              "      <td>0.0</td>\n",
              "      <td>0.0</td>\n",
              "      <td>CAF</td>\n",
              "      <td>1993-08-08</td>\n",
              "    </tr>\n",
              "    <tr>\n",
              "      <th>4</th>\n",
              "      <td>1993-08-08</td>\n",
              "      <td>Paraguay</td>\n",
              "      <td>Argentina</td>\n",
              "      <td>1</td>\n",
              "      <td>3</td>\n",
              "      <td>FIFA World Cup qualification</td>\n",
              "      <td>Asunción</td>\n",
              "      <td>Paraguay</td>\n",
              "      <td>False</td>\n",
              "      <td>8</td>\n",
              "      <td>1993</td>\n",
              "      <td>67.0</td>\n",
              "      <td>Paraguay</td>\n",
              "      <td>PAR</td>\n",
              "      <td>0.0</td>\n",
              "      <td>22.0</td>\n",
              "      <td>1.0</td>\n",
              "      <td>0.0</td>\n",
              "      <td>0.0</td>\n",
              "      <td>0.0</td>\n",
              "      <td>0.0</td>\n",
              "      <td>0.0</td>\n",
              "      <td>0.0</td>\n",
              "      <td>0.0</td>\n",
              "      <td>0.0</td>\n",
              "      <td>CONMEBOL</td>\n",
              "      <td>1993-08-08</td>\n",
              "    </tr>\n",
              "  </tbody>\n",
              "</table>\n",
              "</div>"
            ],
            "text/plain": [
              "        date home_team  ... confederation  rank_date\n",
              "0 1993-08-08   Bolivia  ...      CONMEBOL 1993-08-08\n",
              "1 1993-08-08    Brazil  ...      CONMEBOL 1993-08-08\n",
              "2 1993-08-08   Ecuador  ...      CONMEBOL 1993-08-08\n",
              "3 1993-08-08    Guinea  ...           CAF 1993-08-08\n",
              "4 1993-08-08  Paraguay  ...      CONMEBOL 1993-08-08\n",
              "\n",
              "[5 rows x 27 columns]"
            ]
          },
          "metadata": {
            "tags": []
          },
          "execution_count": 22
        }
      ]
    },
    {
      "cell_type": "code",
      "metadata": {
        "colab": {
          "base_uri": "https://localhost:8080/"
        },
        "id": "Cl3D9cJ0r3rF",
        "outputId": "e3ad98d7-065f-47c4-b78e-984afc3a2948"
      },
      "source": [
        "home_team.shape"
      ],
      "execution_count": null,
      "outputs": [
        {
          "output_type": "execute_result",
          "data": {
            "text/plain": [
              "(22993, 27)"
            ]
          },
          "metadata": {
            "tags": []
          },
          "execution_count": 23
        }
      ]
    },
    {
      "cell_type": "code",
      "metadata": {
        "colab": {
          "base_uri": "https://localhost:8080/",
          "height": 355
        },
        "id": "yHnIDrWCsUZU",
        "outputId": "14bff3b9-e806-4ee9-b215-bc4fd6d0faf7"
      },
      "source": [
        "#Merged data of away teams dataframe\n",
        "away_team = pd.merge(df_result,df_ranking,how='left',left_on=['year','month','away_team'],right_on=['year','month','country_full'])\n",
        "#rename the rank to awayteam_rank\n",
        "away_team.rename(columns={'rank':'awayteam_rank'},inplace=True)\n",
        "away_team.head()"
      ],
      "execution_count": null,
      "outputs": [
        {
          "output_type": "execute_result",
          "data": {
            "text/html": [
              "<div>\n",
              "<style scoped>\n",
              "    .dataframe tbody tr th:only-of-type {\n",
              "        vertical-align: middle;\n",
              "    }\n",
              "\n",
              "    .dataframe tbody tr th {\n",
              "        vertical-align: top;\n",
              "    }\n",
              "\n",
              "    .dataframe thead th {\n",
              "        text-align: right;\n",
              "    }\n",
              "</style>\n",
              "<table border=\"1\" class=\"dataframe\">\n",
              "  <thead>\n",
              "    <tr style=\"text-align: right;\">\n",
              "      <th></th>\n",
              "      <th>date</th>\n",
              "      <th>home_team</th>\n",
              "      <th>away_team</th>\n",
              "      <th>home_score</th>\n",
              "      <th>away_score</th>\n",
              "      <th>tournament</th>\n",
              "      <th>city</th>\n",
              "      <th>country</th>\n",
              "      <th>neutral</th>\n",
              "      <th>month</th>\n",
              "      <th>year</th>\n",
              "      <th>awayteam_rank</th>\n",
              "      <th>country_full</th>\n",
              "      <th>country_abrv</th>\n",
              "      <th>total_points</th>\n",
              "      <th>previous_points</th>\n",
              "      <th>rank_change</th>\n",
              "      <th>cur_year_avg</th>\n",
              "      <th>cur_year_avg_weighted</th>\n",
              "      <th>last_year_avg</th>\n",
              "      <th>last_year_avg_weighted</th>\n",
              "      <th>two_year_ago_avg</th>\n",
              "      <th>two_year_ago_weighted</th>\n",
              "      <th>three_year_ago_avg</th>\n",
              "      <th>three_year_ago_weighted</th>\n",
              "      <th>confederation</th>\n",
              "      <th>rank_date</th>\n",
              "    </tr>\n",
              "  </thead>\n",
              "  <tbody>\n",
              "    <tr>\n",
              "      <th>0</th>\n",
              "      <td>1993-08-08</td>\n",
              "      <td>Bolivia</td>\n",
              "      <td>Uruguay</td>\n",
              "      <td>3</td>\n",
              "      <td>1</td>\n",
              "      <td>FIFA World Cup qualification</td>\n",
              "      <td>La Paz</td>\n",
              "      <td>Bolivia</td>\n",
              "      <td>False</td>\n",
              "      <td>8</td>\n",
              "      <td>1993</td>\n",
              "      <td>22.0</td>\n",
              "      <td>Uruguay</td>\n",
              "      <td>URU</td>\n",
              "      <td>0.0</td>\n",
              "      <td>47.0</td>\n",
              "      <td>-6.0</td>\n",
              "      <td>0.0</td>\n",
              "      <td>0.0</td>\n",
              "      <td>0.0</td>\n",
              "      <td>0.0</td>\n",
              "      <td>0.0</td>\n",
              "      <td>0.0</td>\n",
              "      <td>0.0</td>\n",
              "      <td>0.0</td>\n",
              "      <td>CONMEBOL</td>\n",
              "      <td>1993-08-08</td>\n",
              "    </tr>\n",
              "    <tr>\n",
              "      <th>1</th>\n",
              "      <td>1993-08-08</td>\n",
              "      <td>Brazil</td>\n",
              "      <td>Mexico</td>\n",
              "      <td>1</td>\n",
              "      <td>1</td>\n",
              "      <td>Friendly</td>\n",
              "      <td>Maceió</td>\n",
              "      <td>Brazil</td>\n",
              "      <td>False</td>\n",
              "      <td>8</td>\n",
              "      <td>1993</td>\n",
              "      <td>14.0</td>\n",
              "      <td>Mexico</td>\n",
              "      <td>MEX</td>\n",
              "      <td>0.0</td>\n",
              "      <td>42.0</td>\n",
              "      <td>11.0</td>\n",
              "      <td>0.0</td>\n",
              "      <td>0.0</td>\n",
              "      <td>0.0</td>\n",
              "      <td>0.0</td>\n",
              "      <td>0.0</td>\n",
              "      <td>0.0</td>\n",
              "      <td>0.0</td>\n",
              "      <td>0.0</td>\n",
              "      <td>CONCACAF</td>\n",
              "      <td>1993-08-08</td>\n",
              "    </tr>\n",
              "    <tr>\n",
              "      <th>2</th>\n",
              "      <td>1993-08-08</td>\n",
              "      <td>Ecuador</td>\n",
              "      <td>Venezuela</td>\n",
              "      <td>5</td>\n",
              "      <td>0</td>\n",
              "      <td>FIFA World Cup qualification</td>\n",
              "      <td>Quito</td>\n",
              "      <td>Ecuador</td>\n",
              "      <td>False</td>\n",
              "      <td>8</td>\n",
              "      <td>1993</td>\n",
              "      <td>94.0</td>\n",
              "      <td>Venezuela</td>\n",
              "      <td>VEN</td>\n",
              "      <td>0.0</td>\n",
              "      <td>4.0</td>\n",
              "      <td>31.0</td>\n",
              "      <td>0.0</td>\n",
              "      <td>0.0</td>\n",
              "      <td>0.0</td>\n",
              "      <td>0.0</td>\n",
              "      <td>0.0</td>\n",
              "      <td>0.0</td>\n",
              "      <td>0.0</td>\n",
              "      <td>0.0</td>\n",
              "      <td>CONMEBOL</td>\n",
              "      <td>1993-08-08</td>\n",
              "    </tr>\n",
              "    <tr>\n",
              "      <th>3</th>\n",
              "      <td>1993-08-08</td>\n",
              "      <td>Guinea</td>\n",
              "      <td>Sierra Leone</td>\n",
              "      <td>1</td>\n",
              "      <td>0</td>\n",
              "      <td>Friendly</td>\n",
              "      <td>Conakry</td>\n",
              "      <td>Guinea</td>\n",
              "      <td>False</td>\n",
              "      <td>8</td>\n",
              "      <td>1993</td>\n",
              "      <td>86.0</td>\n",
              "      <td>Sierra Leone</td>\n",
              "      <td>SLE</td>\n",
              "      <td>0.0</td>\n",
              "      <td>16.0</td>\n",
              "      <td>-7.0</td>\n",
              "      <td>0.0</td>\n",
              "      <td>0.0</td>\n",
              "      <td>0.0</td>\n",
              "      <td>0.0</td>\n",
              "      <td>0.0</td>\n",
              "      <td>0.0</td>\n",
              "      <td>0.0</td>\n",
              "      <td>0.0</td>\n",
              "      <td>CAF</td>\n",
              "      <td>1993-08-08</td>\n",
              "    </tr>\n",
              "    <tr>\n",
              "      <th>4</th>\n",
              "      <td>1993-08-08</td>\n",
              "      <td>Paraguay</td>\n",
              "      <td>Argentina</td>\n",
              "      <td>1</td>\n",
              "      <td>3</td>\n",
              "      <td>FIFA World Cup qualification</td>\n",
              "      <td>Asunción</td>\n",
              "      <td>Paraguay</td>\n",
              "      <td>False</td>\n",
              "      <td>8</td>\n",
              "      <td>1993</td>\n",
              "      <td>5.0</td>\n",
              "      <td>Argentina</td>\n",
              "      <td>ARG</td>\n",
              "      <td>0.0</td>\n",
              "      <td>51.0</td>\n",
              "      <td>5.0</td>\n",
              "      <td>0.0</td>\n",
              "      <td>0.0</td>\n",
              "      <td>0.0</td>\n",
              "      <td>0.0</td>\n",
              "      <td>0.0</td>\n",
              "      <td>0.0</td>\n",
              "      <td>0.0</td>\n",
              "      <td>0.0</td>\n",
              "      <td>CONMEBOL</td>\n",
              "      <td>1993-08-08</td>\n",
              "    </tr>\n",
              "  </tbody>\n",
              "</table>\n",
              "</div>"
            ],
            "text/plain": [
              "        date home_team  ... confederation  rank_date\n",
              "0 1993-08-08   Bolivia  ...      CONMEBOL 1993-08-08\n",
              "1 1993-08-08    Brazil  ...      CONCACAF 1993-08-08\n",
              "2 1993-08-08   Ecuador  ...      CONMEBOL 1993-08-08\n",
              "3 1993-08-08    Guinea  ...           CAF 1993-08-08\n",
              "4 1993-08-08  Paraguay  ...      CONMEBOL 1993-08-08\n",
              "\n",
              "[5 rows x 27 columns]"
            ]
          },
          "metadata": {
            "tags": []
          },
          "execution_count": 24
        }
      ]
    },
    {
      "cell_type": "code",
      "metadata": {
        "colab": {
          "base_uri": "https://localhost:8080/"
        },
        "id": "XhK4-tujud-4",
        "outputId": "63d57d49-2151-4b9c-c227-d1c93acbec13"
      },
      "source": [
        "away_team.shape"
      ],
      "execution_count": null,
      "outputs": [
        {
          "output_type": "execute_result",
          "data": {
            "text/plain": [
              "(23000, 27)"
            ]
          },
          "metadata": {
            "tags": []
          },
          "execution_count": 25
        }
      ]
    },
    {
      "cell_type": "code",
      "metadata": {
        "colab": {
          "base_uri": "https://localhost:8080/",
          "height": 338
        },
        "id": "ne7FwKz3uk11",
        "outputId": "58e64916-182e-497d-b9b9-e72a0689a84d"
      },
      "source": [
        "#Merging the hometeam with away team\n",
        "teams = pd.merge(home_team,away_team,how='left',left_on=['year','month','home_team','away_team'],right_on=['year','month','home_team','away_team'])\n",
        "teams.head()"
      ],
      "execution_count": null,
      "outputs": [
        {
          "output_type": "execute_result",
          "data": {
            "text/html": [
              "<div>\n",
              "<style scoped>\n",
              "    .dataframe tbody tr th:only-of-type {\n",
              "        vertical-align: middle;\n",
              "    }\n",
              "\n",
              "    .dataframe tbody tr th {\n",
              "        vertical-align: top;\n",
              "    }\n",
              "\n",
              "    .dataframe thead th {\n",
              "        text-align: right;\n",
              "    }\n",
              "</style>\n",
              "<table border=\"1\" class=\"dataframe\">\n",
              "  <thead>\n",
              "    <tr style=\"text-align: right;\">\n",
              "      <th></th>\n",
              "      <th>date_x</th>\n",
              "      <th>home_team</th>\n",
              "      <th>away_team</th>\n",
              "      <th>home_score_x</th>\n",
              "      <th>away_score_x</th>\n",
              "      <th>tournament_x</th>\n",
              "      <th>city_x</th>\n",
              "      <th>country_x</th>\n",
              "      <th>neutral_x</th>\n",
              "      <th>month</th>\n",
              "      <th>year</th>\n",
              "      <th>hometeam_rank</th>\n",
              "      <th>country_full_x</th>\n",
              "      <th>country_abrv_x</th>\n",
              "      <th>total_points_x</th>\n",
              "      <th>previous_points_x</th>\n",
              "      <th>rank_change_x</th>\n",
              "      <th>cur_year_avg_x</th>\n",
              "      <th>cur_year_avg_weighted_x</th>\n",
              "      <th>last_year_avg_x</th>\n",
              "      <th>last_year_avg_weighted_x</th>\n",
              "      <th>two_year_ago_avg_x</th>\n",
              "      <th>two_year_ago_weighted_x</th>\n",
              "      <th>three_year_ago_avg_x</th>\n",
              "      <th>three_year_ago_weighted_x</th>\n",
              "      <th>confederation_x</th>\n",
              "      <th>rank_date_x</th>\n",
              "      <th>date_y</th>\n",
              "      <th>home_score_y</th>\n",
              "      <th>away_score_y</th>\n",
              "      <th>tournament_y</th>\n",
              "      <th>city_y</th>\n",
              "      <th>country_y</th>\n",
              "      <th>neutral_y</th>\n",
              "      <th>awayteam_rank</th>\n",
              "      <th>country_full_y</th>\n",
              "      <th>country_abrv_y</th>\n",
              "      <th>total_points_y</th>\n",
              "      <th>previous_points_y</th>\n",
              "      <th>rank_change_y</th>\n",
              "      <th>cur_year_avg_y</th>\n",
              "      <th>cur_year_avg_weighted_y</th>\n",
              "      <th>last_year_avg_y</th>\n",
              "      <th>last_year_avg_weighted_y</th>\n",
              "      <th>two_year_ago_avg_y</th>\n",
              "      <th>two_year_ago_weighted_y</th>\n",
              "      <th>three_year_ago_avg_y</th>\n",
              "      <th>three_year_ago_weighted_y</th>\n",
              "      <th>confederation_y</th>\n",
              "      <th>rank_date_y</th>\n",
              "    </tr>\n",
              "  </thead>\n",
              "  <tbody>\n",
              "    <tr>\n",
              "      <th>0</th>\n",
              "      <td>1993-08-08</td>\n",
              "      <td>Bolivia</td>\n",
              "      <td>Uruguay</td>\n",
              "      <td>3</td>\n",
              "      <td>1</td>\n",
              "      <td>FIFA World Cup qualification</td>\n",
              "      <td>La Paz</td>\n",
              "      <td>Bolivia</td>\n",
              "      <td>False</td>\n",
              "      <td>8</td>\n",
              "      <td>1993</td>\n",
              "      <td>59.0</td>\n",
              "      <td>Bolivia</td>\n",
              "      <td>BOL</td>\n",
              "      <td>0.0</td>\n",
              "      <td>13.0</td>\n",
              "      <td>28.0</td>\n",
              "      <td>0.0</td>\n",
              "      <td>0.0</td>\n",
              "      <td>0.0</td>\n",
              "      <td>0.0</td>\n",
              "      <td>0.0</td>\n",
              "      <td>0.0</td>\n",
              "      <td>0.0</td>\n",
              "      <td>0.0</td>\n",
              "      <td>CONMEBOL</td>\n",
              "      <td>1993-08-08</td>\n",
              "      <td>1993-08-08</td>\n",
              "      <td>3</td>\n",
              "      <td>1</td>\n",
              "      <td>FIFA World Cup qualification</td>\n",
              "      <td>La Paz</td>\n",
              "      <td>Bolivia</td>\n",
              "      <td>False</td>\n",
              "      <td>22.0</td>\n",
              "      <td>Uruguay</td>\n",
              "      <td>URU</td>\n",
              "      <td>0.0</td>\n",
              "      <td>47.0</td>\n",
              "      <td>-6.0</td>\n",
              "      <td>0.0</td>\n",
              "      <td>0.0</td>\n",
              "      <td>0.0</td>\n",
              "      <td>0.0</td>\n",
              "      <td>0.0</td>\n",
              "      <td>0.0</td>\n",
              "      <td>0.0</td>\n",
              "      <td>0.0</td>\n",
              "      <td>CONMEBOL</td>\n",
              "      <td>1993-08-08</td>\n",
              "    </tr>\n",
              "    <tr>\n",
              "      <th>1</th>\n",
              "      <td>1993-08-08</td>\n",
              "      <td>Brazil</td>\n",
              "      <td>Mexico</td>\n",
              "      <td>1</td>\n",
              "      <td>1</td>\n",
              "      <td>Friendly</td>\n",
              "      <td>Maceió</td>\n",
              "      <td>Brazil</td>\n",
              "      <td>False</td>\n",
              "      <td>8</td>\n",
              "      <td>1993</td>\n",
              "      <td>8.0</td>\n",
              "      <td>Brazil</td>\n",
              "      <td>BRA</td>\n",
              "      <td>0.0</td>\n",
              "      <td>55.0</td>\n",
              "      <td>-5.0</td>\n",
              "      <td>0.0</td>\n",
              "      <td>0.0</td>\n",
              "      <td>0.0</td>\n",
              "      <td>0.0</td>\n",
              "      <td>0.0</td>\n",
              "      <td>0.0</td>\n",
              "      <td>0.0</td>\n",
              "      <td>0.0</td>\n",
              "      <td>CONMEBOL</td>\n",
              "      <td>1993-08-08</td>\n",
              "      <td>1993-08-08</td>\n",
              "      <td>1</td>\n",
              "      <td>1</td>\n",
              "      <td>Friendly</td>\n",
              "      <td>Maceió</td>\n",
              "      <td>Brazil</td>\n",
              "      <td>False</td>\n",
              "      <td>14.0</td>\n",
              "      <td>Mexico</td>\n",
              "      <td>MEX</td>\n",
              "      <td>0.0</td>\n",
              "      <td>42.0</td>\n",
              "      <td>11.0</td>\n",
              "      <td>0.0</td>\n",
              "      <td>0.0</td>\n",
              "      <td>0.0</td>\n",
              "      <td>0.0</td>\n",
              "      <td>0.0</td>\n",
              "      <td>0.0</td>\n",
              "      <td>0.0</td>\n",
              "      <td>0.0</td>\n",
              "      <td>CONCACAF</td>\n",
              "      <td>1993-08-08</td>\n",
              "    </tr>\n",
              "    <tr>\n",
              "      <th>2</th>\n",
              "      <td>1993-08-08</td>\n",
              "      <td>Ecuador</td>\n",
              "      <td>Venezuela</td>\n",
              "      <td>5</td>\n",
              "      <td>0</td>\n",
              "      <td>FIFA World Cup qualification</td>\n",
              "      <td>Quito</td>\n",
              "      <td>Ecuador</td>\n",
              "      <td>False</td>\n",
              "      <td>8</td>\n",
              "      <td>1993</td>\n",
              "      <td>35.0</td>\n",
              "      <td>Ecuador</td>\n",
              "      <td>ECU</td>\n",
              "      <td>0.0</td>\n",
              "      <td>23.0</td>\n",
              "      <td>30.0</td>\n",
              "      <td>0.0</td>\n",
              "      <td>0.0</td>\n",
              "      <td>0.0</td>\n",
              "      <td>0.0</td>\n",
              "      <td>0.0</td>\n",
              "      <td>0.0</td>\n",
              "      <td>0.0</td>\n",
              "      <td>0.0</td>\n",
              "      <td>CONMEBOL</td>\n",
              "      <td>1993-08-08</td>\n",
              "      <td>1993-08-08</td>\n",
              "      <td>5</td>\n",
              "      <td>0</td>\n",
              "      <td>FIFA World Cup qualification</td>\n",
              "      <td>Quito</td>\n",
              "      <td>Ecuador</td>\n",
              "      <td>False</td>\n",
              "      <td>94.0</td>\n",
              "      <td>Venezuela</td>\n",
              "      <td>VEN</td>\n",
              "      <td>0.0</td>\n",
              "      <td>4.0</td>\n",
              "      <td>31.0</td>\n",
              "      <td>0.0</td>\n",
              "      <td>0.0</td>\n",
              "      <td>0.0</td>\n",
              "      <td>0.0</td>\n",
              "      <td>0.0</td>\n",
              "      <td>0.0</td>\n",
              "      <td>0.0</td>\n",
              "      <td>0.0</td>\n",
              "      <td>CONMEBOL</td>\n",
              "      <td>1993-08-08</td>\n",
              "    </tr>\n",
              "    <tr>\n",
              "      <th>3</th>\n",
              "      <td>1993-08-08</td>\n",
              "      <td>Guinea</td>\n",
              "      <td>Sierra Leone</td>\n",
              "      <td>1</td>\n",
              "      <td>0</td>\n",
              "      <td>Friendly</td>\n",
              "      <td>Conakry</td>\n",
              "      <td>Guinea</td>\n",
              "      <td>False</td>\n",
              "      <td>8</td>\n",
              "      <td>1993</td>\n",
              "      <td>65.0</td>\n",
              "      <td>Guinea</td>\n",
              "      <td>GUI</td>\n",
              "      <td>0.0</td>\n",
              "      <td>23.0</td>\n",
              "      <td>-2.0</td>\n",
              "      <td>0.0</td>\n",
              "      <td>0.0</td>\n",
              "      <td>0.0</td>\n",
              "      <td>0.0</td>\n",
              "      <td>0.0</td>\n",
              "      <td>0.0</td>\n",
              "      <td>0.0</td>\n",
              "      <td>0.0</td>\n",
              "      <td>CAF</td>\n",
              "      <td>1993-08-08</td>\n",
              "      <td>1993-08-08</td>\n",
              "      <td>1</td>\n",
              "      <td>0</td>\n",
              "      <td>Friendly</td>\n",
              "      <td>Conakry</td>\n",
              "      <td>Guinea</td>\n",
              "      <td>False</td>\n",
              "      <td>86.0</td>\n",
              "      <td>Sierra Leone</td>\n",
              "      <td>SLE</td>\n",
              "      <td>0.0</td>\n",
              "      <td>16.0</td>\n",
              "      <td>-7.0</td>\n",
              "      <td>0.0</td>\n",
              "      <td>0.0</td>\n",
              "      <td>0.0</td>\n",
              "      <td>0.0</td>\n",
              "      <td>0.0</td>\n",
              "      <td>0.0</td>\n",
              "      <td>0.0</td>\n",
              "      <td>0.0</td>\n",
              "      <td>CAF</td>\n",
              "      <td>1993-08-08</td>\n",
              "    </tr>\n",
              "    <tr>\n",
              "      <th>4</th>\n",
              "      <td>1993-08-08</td>\n",
              "      <td>Guinea</td>\n",
              "      <td>Sierra Leone</td>\n",
              "      <td>1</td>\n",
              "      <td>0</td>\n",
              "      <td>Friendly</td>\n",
              "      <td>Conakry</td>\n",
              "      <td>Guinea</td>\n",
              "      <td>False</td>\n",
              "      <td>8</td>\n",
              "      <td>1993</td>\n",
              "      <td>65.0</td>\n",
              "      <td>Guinea</td>\n",
              "      <td>GUI</td>\n",
              "      <td>0.0</td>\n",
              "      <td>23.0</td>\n",
              "      <td>-2.0</td>\n",
              "      <td>0.0</td>\n",
              "      <td>0.0</td>\n",
              "      <td>0.0</td>\n",
              "      <td>0.0</td>\n",
              "      <td>0.0</td>\n",
              "      <td>0.0</td>\n",
              "      <td>0.0</td>\n",
              "      <td>0.0</td>\n",
              "      <td>CAF</td>\n",
              "      <td>1993-08-08</td>\n",
              "      <td>1993-08-09</td>\n",
              "      <td>4</td>\n",
              "      <td>0</td>\n",
              "      <td>Friendly</td>\n",
              "      <td>Conakry</td>\n",
              "      <td>Guinea</td>\n",
              "      <td>False</td>\n",
              "      <td>86.0</td>\n",
              "      <td>Sierra Leone</td>\n",
              "      <td>SLE</td>\n",
              "      <td>0.0</td>\n",
              "      <td>16.0</td>\n",
              "      <td>-7.0</td>\n",
              "      <td>0.0</td>\n",
              "      <td>0.0</td>\n",
              "      <td>0.0</td>\n",
              "      <td>0.0</td>\n",
              "      <td>0.0</td>\n",
              "      <td>0.0</td>\n",
              "      <td>0.0</td>\n",
              "      <td>0.0</td>\n",
              "      <td>CAF</td>\n",
              "      <td>1993-08-08</td>\n",
              "    </tr>\n",
              "  </tbody>\n",
              "</table>\n",
              "</div>"
            ],
            "text/plain": [
              "      date_x home_team  ... confederation_y  rank_date_y\n",
              "0 1993-08-08   Bolivia  ...        CONMEBOL   1993-08-08\n",
              "1 1993-08-08    Brazil  ...        CONCACAF   1993-08-08\n",
              "2 1993-08-08   Ecuador  ...        CONMEBOL   1993-08-08\n",
              "3 1993-08-08    Guinea  ...             CAF   1993-08-08\n",
              "4 1993-08-08    Guinea  ...             CAF   1993-08-08\n",
              "\n",
              "[5 rows x 50 columns]"
            ]
          },
          "metadata": {
            "tags": []
          },
          "execution_count": 26
        }
      ]
    },
    {
      "cell_type": "code",
      "metadata": {
        "colab": {
          "base_uri": "https://localhost:8080/"
        },
        "id": "yQ9cpcvVvnpf",
        "outputId": "f9469ef2-928a-4869-d571-26c576623074"
      },
      "source": [
        "teams.columns"
      ],
      "execution_count": null,
      "outputs": [
        {
          "output_type": "execute_result",
          "data": {
            "text/plain": [
              "Index(['date_x', 'home_team', 'away_team', 'home_score_x', 'away_score_x',\n",
              "       'tournament_x', 'city_x', 'country_x', 'neutral_x', 'month', 'year',\n",
              "       'hometeam_rank', 'country_full_x', 'country_abrv_x', 'total_points_x',\n",
              "       'previous_points_x', 'rank_change_x', 'cur_year_avg_x',\n",
              "       'cur_year_avg_weighted_x', 'last_year_avg_x',\n",
              "       'last_year_avg_weighted_x', 'two_year_ago_avg_x',\n",
              "       'two_year_ago_weighted_x', 'three_year_ago_avg_x',\n",
              "       'three_year_ago_weighted_x', 'confederation_x', 'rank_date_x', 'date_y',\n",
              "       'home_score_y', 'away_score_y', 'tournament_y', 'city_y', 'country_y',\n",
              "       'neutral_y', 'awayteam_rank', 'country_full_y', 'country_abrv_y',\n",
              "       'total_points_y', 'previous_points_y', 'rank_change_y',\n",
              "       'cur_year_avg_y', 'cur_year_avg_weighted_y', 'last_year_avg_y',\n",
              "       'last_year_avg_weighted_y', 'two_year_ago_avg_y',\n",
              "       'two_year_ago_weighted_y', 'three_year_ago_avg_y',\n",
              "       'three_year_ago_weighted_y', 'confederation_y', 'rank_date_y'],\n",
              "      dtype='object')"
            ]
          },
          "metadata": {
            "tags": []
          },
          "execution_count": 27
        }
      ]
    },
    {
      "cell_type": "code",
      "metadata": {
        "id": "Pj2eAziSvs3Z"
      },
      "source": [
        "#to remove unwanted columns, col_drop variable will hold the necessary columns to drop\n",
        "col_drop = ['date_x', 'country_full_x',\n",
        "       'country_abrv_x', 'total_points_x', 'previous_points_x',\n",
        "       'rank_change_x', 'cur_year_avg_x', 'cur_year_avg_weighted_x',\n",
        "       'last_year_avg_x', 'last_year_avg_weighted_x', 'two_year_ago_avg_x',\n",
        "       'two_year_ago_weighted_x', 'three_year_ago_avg_x',\n",
        "       'three_year_ago_weighted_x', 'confederation_x', 'rank_date_x', 'date_y',\n",
        "       'home_score_y', 'away_score_y', 'tournament_y', 'city_y', 'country_y',\n",
        "       'neutral_y', \n",
        "       'country_full_y', 'country_abrv_y', 'total_points_y',\n",
        "       'previous_points_y', 'rank_change_y', 'cur_year_avg_y',\n",
        "       'cur_year_avg_weighted_y', 'last_year_avg_y',\n",
        "       'last_year_avg_weighted_y', 'two_year_ago_avg_y',\n",
        "       'two_year_ago_weighted_y', 'three_year_ago_avg_y',\n",
        "       'three_year_ago_weighted_y', 'confederation_y', 'rank_date_y']\n",
        "\n",
        "teams.drop(col_drop,axis=1,inplace=True)"
      ],
      "execution_count": null,
      "outputs": []
    },
    {
      "cell_type": "code",
      "metadata": {
        "colab": {
          "base_uri": "https://localhost:8080/"
        },
        "id": "t2NvMBOawua0",
        "outputId": "28d0e9d8-39c0-4eef-c07b-970ddfc9d1ea"
      },
      "source": [
        "teams.shape"
      ],
      "execution_count": null,
      "outputs": [
        {
          "output_type": "execute_result",
          "data": {
            "text/plain": [
              "(24064, 12)"
            ]
          },
          "metadata": {
            "tags": []
          },
          "execution_count": 29
        }
      ]
    },
    {
      "cell_type": "code",
      "metadata": {
        "colab": {
          "base_uri": "https://localhost:8080/"
        },
        "id": "uLHsWi3dw-te",
        "outputId": "ce665265-65f5-4d3e-dc24-322e2e5e183e"
      },
      "source": [
        "teams.isnull().sum()"
      ],
      "execution_count": null,
      "outputs": [
        {
          "output_type": "execute_result",
          "data": {
            "text/plain": [
              "home_team           0\n",
              "away_team           0\n",
              "home_score_x        0\n",
              "away_score_x        0\n",
              "tournament_x        0\n",
              "city_x              0\n",
              "country_x           0\n",
              "neutral_x           0\n",
              "month               0\n",
              "year                0\n",
              "hometeam_rank    4543\n",
              "awayteam_rank    4651\n",
              "dtype: int64"
            ]
          },
          "metadata": {
            "tags": []
          },
          "execution_count": 30
        }
      ]
    },
    {
      "cell_type": "code",
      "metadata": {
        "id": "NaDEJmasxGhR"
      },
      "source": [
        "#create a copy for the dataframe\n",
        "df = teams.copy()"
      ],
      "execution_count": null,
      "outputs": []
    },
    {
      "cell_type": "code",
      "metadata": {
        "colab": {
          "base_uri": "https://localhost:8080/",
          "height": 202
        },
        "id": "88MRuoBexSs_",
        "outputId": "189da32d-cb6c-4d67-9851-dd5c9aa6cd9c"
      },
      "source": [
        "df.dropna(inplace = True)\n",
        "df.head()"
      ],
      "execution_count": null,
      "outputs": [
        {
          "output_type": "execute_result",
          "data": {
            "text/html": [
              "<div>\n",
              "<style scoped>\n",
              "    .dataframe tbody tr th:only-of-type {\n",
              "        vertical-align: middle;\n",
              "    }\n",
              "\n",
              "    .dataframe tbody tr th {\n",
              "        vertical-align: top;\n",
              "    }\n",
              "\n",
              "    .dataframe thead th {\n",
              "        text-align: right;\n",
              "    }\n",
              "</style>\n",
              "<table border=\"1\" class=\"dataframe\">\n",
              "  <thead>\n",
              "    <tr style=\"text-align: right;\">\n",
              "      <th></th>\n",
              "      <th>home_team</th>\n",
              "      <th>away_team</th>\n",
              "      <th>home_score_x</th>\n",
              "      <th>away_score_x</th>\n",
              "      <th>tournament_x</th>\n",
              "      <th>city_x</th>\n",
              "      <th>country_x</th>\n",
              "      <th>neutral_x</th>\n",
              "      <th>month</th>\n",
              "      <th>year</th>\n",
              "      <th>hometeam_rank</th>\n",
              "      <th>awayteam_rank</th>\n",
              "    </tr>\n",
              "  </thead>\n",
              "  <tbody>\n",
              "    <tr>\n",
              "      <th>0</th>\n",
              "      <td>Bolivia</td>\n",
              "      <td>Uruguay</td>\n",
              "      <td>3</td>\n",
              "      <td>1</td>\n",
              "      <td>FIFA World Cup qualification</td>\n",
              "      <td>La Paz</td>\n",
              "      <td>Bolivia</td>\n",
              "      <td>False</td>\n",
              "      <td>8</td>\n",
              "      <td>1993</td>\n",
              "      <td>59.0</td>\n",
              "      <td>22.0</td>\n",
              "    </tr>\n",
              "    <tr>\n",
              "      <th>1</th>\n",
              "      <td>Brazil</td>\n",
              "      <td>Mexico</td>\n",
              "      <td>1</td>\n",
              "      <td>1</td>\n",
              "      <td>Friendly</td>\n",
              "      <td>Maceió</td>\n",
              "      <td>Brazil</td>\n",
              "      <td>False</td>\n",
              "      <td>8</td>\n",
              "      <td>1993</td>\n",
              "      <td>8.0</td>\n",
              "      <td>14.0</td>\n",
              "    </tr>\n",
              "    <tr>\n",
              "      <th>2</th>\n",
              "      <td>Ecuador</td>\n",
              "      <td>Venezuela</td>\n",
              "      <td>5</td>\n",
              "      <td>0</td>\n",
              "      <td>FIFA World Cup qualification</td>\n",
              "      <td>Quito</td>\n",
              "      <td>Ecuador</td>\n",
              "      <td>False</td>\n",
              "      <td>8</td>\n",
              "      <td>1993</td>\n",
              "      <td>35.0</td>\n",
              "      <td>94.0</td>\n",
              "    </tr>\n",
              "    <tr>\n",
              "      <th>3</th>\n",
              "      <td>Guinea</td>\n",
              "      <td>Sierra Leone</td>\n",
              "      <td>1</td>\n",
              "      <td>0</td>\n",
              "      <td>Friendly</td>\n",
              "      <td>Conakry</td>\n",
              "      <td>Guinea</td>\n",
              "      <td>False</td>\n",
              "      <td>8</td>\n",
              "      <td>1993</td>\n",
              "      <td>65.0</td>\n",
              "      <td>86.0</td>\n",
              "    </tr>\n",
              "    <tr>\n",
              "      <th>4</th>\n",
              "      <td>Guinea</td>\n",
              "      <td>Sierra Leone</td>\n",
              "      <td>1</td>\n",
              "      <td>0</td>\n",
              "      <td>Friendly</td>\n",
              "      <td>Conakry</td>\n",
              "      <td>Guinea</td>\n",
              "      <td>False</td>\n",
              "      <td>8</td>\n",
              "      <td>1993</td>\n",
              "      <td>65.0</td>\n",
              "      <td>86.0</td>\n",
              "    </tr>\n",
              "  </tbody>\n",
              "</table>\n",
              "</div>"
            ],
            "text/plain": [
              "  home_team     away_team  home_score_x  ...  year hometeam_rank awayteam_rank\n",
              "0   Bolivia       Uruguay             3  ...  1993          59.0          22.0\n",
              "1    Brazil        Mexico             1  ...  1993           8.0          14.0\n",
              "2   Ecuador     Venezuela             5  ...  1993          35.0          94.0\n",
              "3    Guinea  Sierra Leone             1  ...  1993          65.0          86.0\n",
              "4    Guinea  Sierra Leone             1  ...  1993          65.0          86.0\n",
              "\n",
              "[5 rows x 12 columns]"
            ]
          },
          "metadata": {
            "tags": []
          },
          "execution_count": 32
        }
      ]
    },
    {
      "cell_type": "code",
      "metadata": {
        "colab": {
          "base_uri": "https://localhost:8080/",
          "height": 202
        },
        "id": "vUog-6bSxlln",
        "outputId": "3f8039b0-8c1a-408e-a381-51f5dc6de584"
      },
      "source": [
        "#renaming columns\n",
        "df.rename(columns = {'home_score_x': 'home_score', 'away_score_x': 'away_score', 'tournament_x': 'tournament', 'city_x': 'city', 'country_x': 'country',\\\n",
        "                        'neutral_x': 'neutral'}, inplace = True)\n",
        "df.head()\n"
      ],
      "execution_count": null,
      "outputs": [
        {
          "output_type": "execute_result",
          "data": {
            "text/html": [
              "<div>\n",
              "<style scoped>\n",
              "    .dataframe tbody tr th:only-of-type {\n",
              "        vertical-align: middle;\n",
              "    }\n",
              "\n",
              "    .dataframe tbody tr th {\n",
              "        vertical-align: top;\n",
              "    }\n",
              "\n",
              "    .dataframe thead th {\n",
              "        text-align: right;\n",
              "    }\n",
              "</style>\n",
              "<table border=\"1\" class=\"dataframe\">\n",
              "  <thead>\n",
              "    <tr style=\"text-align: right;\">\n",
              "      <th></th>\n",
              "      <th>home_team</th>\n",
              "      <th>away_team</th>\n",
              "      <th>home_score</th>\n",
              "      <th>away_score</th>\n",
              "      <th>tournament</th>\n",
              "      <th>city</th>\n",
              "      <th>country</th>\n",
              "      <th>neutral</th>\n",
              "      <th>month</th>\n",
              "      <th>year</th>\n",
              "      <th>hometeam_rank</th>\n",
              "      <th>awayteam_rank</th>\n",
              "    </tr>\n",
              "  </thead>\n",
              "  <tbody>\n",
              "    <tr>\n",
              "      <th>0</th>\n",
              "      <td>Bolivia</td>\n",
              "      <td>Uruguay</td>\n",
              "      <td>3</td>\n",
              "      <td>1</td>\n",
              "      <td>FIFA World Cup qualification</td>\n",
              "      <td>La Paz</td>\n",
              "      <td>Bolivia</td>\n",
              "      <td>False</td>\n",
              "      <td>8</td>\n",
              "      <td>1993</td>\n",
              "      <td>59.0</td>\n",
              "      <td>22.0</td>\n",
              "    </tr>\n",
              "    <tr>\n",
              "      <th>1</th>\n",
              "      <td>Brazil</td>\n",
              "      <td>Mexico</td>\n",
              "      <td>1</td>\n",
              "      <td>1</td>\n",
              "      <td>Friendly</td>\n",
              "      <td>Maceió</td>\n",
              "      <td>Brazil</td>\n",
              "      <td>False</td>\n",
              "      <td>8</td>\n",
              "      <td>1993</td>\n",
              "      <td>8.0</td>\n",
              "      <td>14.0</td>\n",
              "    </tr>\n",
              "    <tr>\n",
              "      <th>2</th>\n",
              "      <td>Ecuador</td>\n",
              "      <td>Venezuela</td>\n",
              "      <td>5</td>\n",
              "      <td>0</td>\n",
              "      <td>FIFA World Cup qualification</td>\n",
              "      <td>Quito</td>\n",
              "      <td>Ecuador</td>\n",
              "      <td>False</td>\n",
              "      <td>8</td>\n",
              "      <td>1993</td>\n",
              "      <td>35.0</td>\n",
              "      <td>94.0</td>\n",
              "    </tr>\n",
              "    <tr>\n",
              "      <th>3</th>\n",
              "      <td>Guinea</td>\n",
              "      <td>Sierra Leone</td>\n",
              "      <td>1</td>\n",
              "      <td>0</td>\n",
              "      <td>Friendly</td>\n",
              "      <td>Conakry</td>\n",
              "      <td>Guinea</td>\n",
              "      <td>False</td>\n",
              "      <td>8</td>\n",
              "      <td>1993</td>\n",
              "      <td>65.0</td>\n",
              "      <td>86.0</td>\n",
              "    </tr>\n",
              "    <tr>\n",
              "      <th>4</th>\n",
              "      <td>Guinea</td>\n",
              "      <td>Sierra Leone</td>\n",
              "      <td>1</td>\n",
              "      <td>0</td>\n",
              "      <td>Friendly</td>\n",
              "      <td>Conakry</td>\n",
              "      <td>Guinea</td>\n",
              "      <td>False</td>\n",
              "      <td>8</td>\n",
              "      <td>1993</td>\n",
              "      <td>65.0</td>\n",
              "      <td>86.0</td>\n",
              "    </tr>\n",
              "  </tbody>\n",
              "</table>\n",
              "</div>"
            ],
            "text/plain": [
              "  home_team     away_team  home_score  ...  year hometeam_rank awayteam_rank\n",
              "0   Bolivia       Uruguay           3  ...  1993          59.0          22.0\n",
              "1    Brazil        Mexico           1  ...  1993           8.0          14.0\n",
              "2   Ecuador     Venezuela           5  ...  1993          35.0          94.0\n",
              "3    Guinea  Sierra Leone           1  ...  1993          65.0          86.0\n",
              "4    Guinea  Sierra Leone           1  ...  1993          65.0          86.0\n",
              "\n",
              "[5 rows x 12 columns]"
            ]
          },
          "metadata": {
            "tags": []
          },
          "execution_count": 33
        }
      ]
    },
    {
      "cell_type": "code",
      "metadata": {
        "colab": {
          "base_uri": "https://localhost:8080/",
          "height": 294
        },
        "id": "W3Rh8pA43ZzK",
        "outputId": "e866a653-c6b4-4026-84ab-7f148d957ef0"
      },
      "source": [
        "df.describe()"
      ],
      "execution_count": null,
      "outputs": [
        {
          "output_type": "execute_result",
          "data": {
            "text/html": [
              "<div>\n",
              "<style scoped>\n",
              "    .dataframe tbody tr th:only-of-type {\n",
              "        vertical-align: middle;\n",
              "    }\n",
              "\n",
              "    .dataframe tbody tr th {\n",
              "        vertical-align: top;\n",
              "    }\n",
              "\n",
              "    .dataframe thead th {\n",
              "        text-align: right;\n",
              "    }\n",
              "</style>\n",
              "<table border=\"1\" class=\"dataframe\">\n",
              "  <thead>\n",
              "    <tr style=\"text-align: right;\">\n",
              "      <th></th>\n",
              "      <th>home_score</th>\n",
              "      <th>away_score</th>\n",
              "      <th>month</th>\n",
              "      <th>year</th>\n",
              "      <th>hometeam_rank</th>\n",
              "      <th>awayteam_rank</th>\n",
              "    </tr>\n",
              "  </thead>\n",
              "  <tbody>\n",
              "    <tr>\n",
              "      <th>count</th>\n",
              "      <td>17666.000000</td>\n",
              "      <td>17666.000000</td>\n",
              "      <td>17666.000000</td>\n",
              "      <td>17666.000000</td>\n",
              "      <td>17666.000000</td>\n",
              "      <td>17666.000000</td>\n",
              "    </tr>\n",
              "    <tr>\n",
              "      <th>mean</th>\n",
              "      <td>1.606872</td>\n",
              "      <td>1.060455</td>\n",
              "      <td>6.855825</td>\n",
              "      <td>2006.384807</td>\n",
              "      <td>76.958168</td>\n",
              "      <td>80.142024</td>\n",
              "    </tr>\n",
              "    <tr>\n",
              "      <th>std</th>\n",
              "      <td>1.614376</td>\n",
              "      <td>1.234641</td>\n",
              "      <td>3.289536</td>\n",
              "      <td>6.802832</td>\n",
              "      <td>50.788745</td>\n",
              "      <td>52.275702</td>\n",
              "    </tr>\n",
              "    <tr>\n",
              "      <th>min</th>\n",
              "      <td>0.000000</td>\n",
              "      <td>0.000000</td>\n",
              "      <td>1.000000</td>\n",
              "      <td>1993.000000</td>\n",
              "      <td>1.000000</td>\n",
              "      <td>1.000000</td>\n",
              "    </tr>\n",
              "    <tr>\n",
              "      <th>25%</th>\n",
              "      <td>0.000000</td>\n",
              "      <td>0.000000</td>\n",
              "      <td>4.000000</td>\n",
              "      <td>2001.000000</td>\n",
              "      <td>34.000000</td>\n",
              "      <td>36.000000</td>\n",
              "    </tr>\n",
              "    <tr>\n",
              "      <th>50%</th>\n",
              "      <td>1.000000</td>\n",
              "      <td>1.000000</td>\n",
              "      <td>7.000000</td>\n",
              "      <td>2007.000000</td>\n",
              "      <td>72.000000</td>\n",
              "      <td>74.000000</td>\n",
              "    </tr>\n",
              "    <tr>\n",
              "      <th>75%</th>\n",
              "      <td>2.000000</td>\n",
              "      <td>2.000000</td>\n",
              "      <td>10.000000</td>\n",
              "      <td>2012.000000</td>\n",
              "      <td>112.000000</td>\n",
              "      <td>117.000000</td>\n",
              "    </tr>\n",
              "    <tr>\n",
              "      <th>max</th>\n",
              "      <td>31.000000</td>\n",
              "      <td>15.000000</td>\n",
              "      <td>12.000000</td>\n",
              "      <td>2018.000000</td>\n",
              "      <td>209.000000</td>\n",
              "      <td>209.000000</td>\n",
              "    </tr>\n",
              "  </tbody>\n",
              "</table>\n",
              "</div>"
            ],
            "text/plain": [
              "         home_score    away_score  ...  hometeam_rank  awayteam_rank\n",
              "count  17666.000000  17666.000000  ...   17666.000000   17666.000000\n",
              "mean       1.606872      1.060455  ...      76.958168      80.142024\n",
              "std        1.614376      1.234641  ...      50.788745      52.275702\n",
              "min        0.000000      0.000000  ...       1.000000       1.000000\n",
              "25%        0.000000      0.000000  ...      34.000000      36.000000\n",
              "50%        1.000000      1.000000  ...      72.000000      74.000000\n",
              "75%        2.000000      2.000000  ...     112.000000     117.000000\n",
              "max       31.000000     15.000000  ...     209.000000     209.000000\n",
              "\n",
              "[8 rows x 6 columns]"
            ]
          },
          "metadata": {
            "tags": []
          },
          "execution_count": 34
        }
      ]
    },
    {
      "cell_type": "markdown",
      "metadata": {
        "id": "eiGa10UBx1Yi"
      },
      "source": [
        "# Exploratory Data Analysis"
      ]
    },
    {
      "cell_type": "code",
      "metadata": {
        "colab": {
          "base_uri": "https://localhost:8080/",
          "height": 279
        },
        "id": "TM-HrZMdxynM",
        "outputId": "b924d9d1-2051-4488-b902-cc9db12cd2d3"
      },
      "source": [
        "sns.boxplot(df['away_score'],color='cyan')\n",
        "plt.show()"
      ],
      "execution_count": null,
      "outputs": [
        {
          "output_type": "display_data",
          "data": {
            "image/png": "[encoded data removed]",
            "text/plain": [
              "<Figure size 432x288 with 1 Axes>"
            ]
          },
          "metadata": {
            "tags": [],
            "needs_background": "light"
          }
        }
      ]
    },
    {
      "cell_type": "code",
      "metadata": {
        "colab": {
          "base_uri": "https://localhost:8080/",
          "height": 280
        },
        "id": "D60qec1P46mb",
        "outputId": "5bf02c0d-fb2b-4665-e30b-3c054e492182"
      },
      "source": [
        "sns.boxplot(df['home_score'],color='g')\n",
        "plt.show()"
      ],
      "execution_count": null,
      "outputs": [
        {
          "output_type": "display_data",
          "data": {
            "image/png": "[encoded data removed]",
            "text/plain": [
              "<Figure size 432x288 with 1 Axes>"
            ]
          },
          "metadata": {
            "tags": [],
            "needs_background": "light"
          }
        }
      ]
    },
    {
      "cell_type": "markdown",
      "metadata": {
        "id": "xn3mslcK5nxy"
      },
      "source": [
        "presence of outliers"
      ]
    },
    {
      "cell_type": "code",
      "metadata": {
        "colab": {
          "base_uri": "https://localhost:8080/"
        },
        "id": "6BGt-2gm5sIA",
        "outputId": "7a537108-43be-44bf-9f97-42bc0a7a6982"
      },
      "source": [
        "#Taking care of outliers\n",
        "q1 = df.quantile(0.25)\n",
        "q3 = df.quantile(0.75)\n",
        "IQR = q3-q1\n",
        "\n",
        "df = df[~((df < (q1-1.5 * IQR)) | (df > (q3 + 1.5 * IQR))).any(axis=1)]\n",
        "df.shape"
      ],
      "execution_count": null,
      "outputs": [
        {
          "output_type": "execute_result",
          "data": {
            "text/plain": [
              "(13110, 12)"
            ]
          },
          "metadata": {
            "tags": []
          },
          "execution_count": 37
        }
      ]
    },
    {
      "cell_type": "markdown",
      "metadata": {
        "id": "WRznJc8I9zcQ"
      },
      "source": [
        "Measure of Central Tendencies"
      ]
    },
    {
      "cell_type": "code",
      "metadata": {
        "colab": {
          "base_uri": "https://localhost:8080/"
        },
        "id": "swaAqXC39ySf",
        "outputId": "dd379014-678a-4650-d0b4-7e50fc39c126"
      },
      "source": [
        "df.median()"
      ],
      "execution_count": null,
      "outputs": [
        {
          "output_type": "execute_result",
          "data": {
            "text/plain": [
              "home_score          1.0\n",
              "away_score          1.0\n",
              "neutral             0.0\n",
              "month               8.0\n",
              "year             2007.0\n",
              "hometeam_rank      71.0\n",
              "awayteam_rank      72.0\n",
              "dtype: float64"
            ]
          },
          "metadata": {
            "tags": []
          },
          "execution_count": 38
        }
      ]
    },
    {
      "cell_type": "code",
      "metadata": {
        "colab": {
          "base_uri": "https://localhost:8080/"
        },
        "id": "hQDXlWyt-CJO",
        "outputId": "96ea6bc7-735f-4bc9-b824-c372636e0c82"
      },
      "source": [
        "df.mean()"
      ],
      "execution_count": null,
      "outputs": [
        {
          "output_type": "execute_result",
          "data": {
            "text/plain": [
              "home_score          1.497330\n",
              "away_score          0.976049\n",
              "neutral             0.000000\n",
              "month               7.028223\n",
              "year             2006.227155\n",
              "hometeam_rank      76.092067\n",
              "awayteam_rank      77.511823\n",
              "dtype: float64"
            ]
          },
          "metadata": {
            "tags": []
          },
          "execution_count": 39
        }
      ]
    },
    {
      "cell_type": "code",
      "metadata": {
        "colab": {
          "base_uri": "https://localhost:8080/",
          "height": 110
        },
        "id": "gm-U-7PJ-LMg",
        "outputId": "ddf68b10-97ad-4667-d996-5036667b037e"
      },
      "source": [
        "df.mode()"
      ],
      "execution_count": null,
      "outputs": [
        {
          "output_type": "execute_result",
          "data": {
            "text/html": [
              "<div>\n",
              "<style scoped>\n",
              "    .dataframe tbody tr th:only-of-type {\n",
              "        vertical-align: middle;\n",
              "    }\n",
              "\n",
              "    .dataframe tbody tr th {\n",
              "        vertical-align: top;\n",
              "    }\n",
              "\n",
              "    .dataframe thead th {\n",
              "        text-align: right;\n",
              "    }\n",
              "</style>\n",
              "<table border=\"1\" class=\"dataframe\">\n",
              "  <thead>\n",
              "    <tr style=\"text-align: right;\">\n",
              "      <th></th>\n",
              "      <th>home_team</th>\n",
              "      <th>away_team</th>\n",
              "      <th>home_score</th>\n",
              "      <th>away_score</th>\n",
              "      <th>tournament</th>\n",
              "      <th>city</th>\n",
              "      <th>country</th>\n",
              "      <th>neutral</th>\n",
              "      <th>month</th>\n",
              "      <th>year</th>\n",
              "      <th>hometeam_rank</th>\n",
              "      <th>awayteam_rank</th>\n",
              "    </tr>\n",
              "  </thead>\n",
              "  <tbody>\n",
              "    <tr>\n",
              "      <th>0</th>\n",
              "      <td>Oman</td>\n",
              "      <td>Zambia</td>\n",
              "      <td>1.0</td>\n",
              "      <td>0.0</td>\n",
              "      <td>Friendly</td>\n",
              "      <td>Muscat</td>\n",
              "      <td>Oman</td>\n",
              "      <td>False</td>\n",
              "      <td>10.0</td>\n",
              "      <td>2008.0</td>\n",
              "      <td>83.0</td>\n",
              "      <td>1.0</td>\n",
              "    </tr>\n",
              "    <tr>\n",
              "      <th>1</th>\n",
              "      <td>NaN</td>\n",
              "      <td>NaN</td>\n",
              "      <td>NaN</td>\n",
              "      <td>NaN</td>\n",
              "      <td>NaN</td>\n",
              "      <td>NaN</td>\n",
              "      <td>NaN</td>\n",
              "      <td>NaN</td>\n",
              "      <td>NaN</td>\n",
              "      <td>NaN</td>\n",
              "      <td>NaN</td>\n",
              "      <td>26.0</td>\n",
              "    </tr>\n",
              "  </tbody>\n",
              "</table>\n",
              "</div>"
            ],
            "text/plain": [
              "  home_team away_team  home_score  ...    year hometeam_rank awayteam_rank\n",
              "0      Oman    Zambia         1.0  ...  2008.0          83.0           1.0\n",
              "1       NaN       NaN         NaN  ...     NaN           NaN          26.0\n",
              "\n",
              "[2 rows x 12 columns]"
            ]
          },
          "metadata": {
            "tags": []
          },
          "execution_count": 40
        }
      ]
    },
    {
      "cell_type": "code",
      "metadata": {
        "id": "JqIgpOnD_Pqz"
      },
      "source": [
        "df[['home_team', 'away_team','tournament','city', 'country']] = df[['home_team', 'away_team','tournament','city', 'country']].astype('category')"
      ],
      "execution_count": null,
      "outputs": []
    },
    {
      "cell_type": "code",
      "metadata": {
        "colab": {
          "base_uri": "https://localhost:8080/"
        },
        "id": "Kei2CLSUEsZP",
        "outputId": "78596c26-2c9f-4873-bfba-390758a29681"
      },
      "source": [
        "df.dtypes"
      ],
      "execution_count": null,
      "outputs": [
        {
          "output_type": "execute_result",
          "data": {
            "text/plain": [
              "home_team        category\n",
              "away_team        category\n",
              "home_score          int64\n",
              "away_score          int64\n",
              "tournament       category\n",
              "city             category\n",
              "country          category\n",
              "neutral              bool\n",
              "month               int64\n",
              "year                int64\n",
              "hometeam_rank     float64\n",
              "awayteam_rank     float64\n",
              "dtype: object"
            ]
          },
          "metadata": {
            "tags": []
          },
          "execution_count": 42
        }
      ]
    },
    {
      "cell_type": "markdown",
      "metadata": {
        "id": "7uB_Sq9JFwGn"
      },
      "source": [
        "# Implementation"
      ]
    },
    {
      "cell_type": "markdown",
      "metadata": {
        "id": "sEfilFn4GMn9"
      },
      "source": [
        "Performing logistic regression"
      ]
    },
    {
      "cell_type": "code",
      "metadata": {
        "id": "OMJOwGbpFlHE"
      },
      "source": [
        "#encoding varible in feature\n",
        "df['neutral'] = pd.get_dummies(df['neutral'])"
      ],
      "execution_count": null,
      "outputs": []
    },
    {
      "cell_type": "code",
      "metadata": {
        "colab": {
          "base_uri": "https://localhost:8080/"
        },
        "id": "vjdxldHVGMCL",
        "outputId": "e2a43710-3105-4e65-afe3-04b7448d9906"
      },
      "source": [
        "#checking unique values in tournament\n",
        "df['tournament'].unique().to_list()"
      ],
      "execution_count": null,
      "outputs": [
        {
          "output_type": "execute_result",
          "data": {
            "text/plain": [
              "['FIFA World Cup qualification',\n",
              " 'Friendly',\n",
              " 'African Cup of Nations qualification',\n",
              " 'Amílcar Cabral Cup',\n",
              " 'United Arab Emirates Friendship Tournament',\n",
              " 'Malta International Tournament',\n",
              " 'CFU Caribbean Cup qualification',\n",
              " 'African Cup of Nations',\n",
              " 'CFU Caribbean Cup',\n",
              " 'UEFA Euro qualification',\n",
              " 'Kirin Cup',\n",
              " 'Oceania Nations Cup qualification',\n",
              " 'Baltic Cup',\n",
              " 'Gulf Cup',\n",
              " 'CECAFA Cup',\n",
              " 'Simba Tournament',\n",
              " 'Dynasty Cup',\n",
              " \"King's Cup\",\n",
              " 'SAFF Cup',\n",
              " 'Copa Paz del Chaco',\n",
              " 'Copa América',\n",
              " 'Merdeka Tournament',\n",
              " 'UNCAF Cup',\n",
              " 'Oceania Nations Cup',\n",
              " 'AFC Asian Cup qualification',\n",
              " 'AFF Championship',\n",
              " 'AFC Asian Cup',\n",
              " 'King Hassan II Tournament',\n",
              " 'Cyprus International Tournament',\n",
              " 'Dunhill Cup',\n",
              " 'Nehru Cup',\n",
              " 'COSAFA Cup',\n",
              " 'Tournoi de France',\n",
              " 'Confederations Cup',\n",
              " 'FIFA World Cup',\n",
              " 'UAFA Cup',\n",
              " 'UNIFFAC Cup',\n",
              " 'WAFF Championship',\n",
              " 'UEFA Euro',\n",
              " 'Nordic Championship',\n",
              " 'Millennium Cup',\n",
              " 'Gold Cup qualification',\n",
              " \"Prime Minister's Cup\",\n",
              " 'EAFF Championship',\n",
              " 'South Pacific Games',\n",
              " 'Gold Cup',\n",
              " 'Lunar New Year Cup',\n",
              " 'AFC Challenge Cup',\n",
              " 'Copa del Pacífico',\n",
              " 'UAFA Cup qualification',\n",
              " 'AFC Challenge Cup qualification',\n",
              " 'VFF Cup',\n",
              " 'Nile Basin Tournament',\n",
              " 'Nations Cup',\n",
              " 'Pacific Games',\n",
              " 'ABCS Tournament',\n",
              " 'African Nations Championship',\n",
              " 'OSN Cup',\n",
              " 'Windward Islands Tournament',\n",
              " 'Copa América qualification',\n",
              " 'Intercontinental Cup']"
            ]
          },
          "metadata": {
            "tags": []
          },
          "execution_count": 44
        }
      ]
    },
    {
      "cell_type": "code",
      "metadata": {
        "id": "D-P8hFKnHB9e"
      },
      "source": [
        "#create a function for three tournament i.e WorldCup, Other, Friendly\n",
        "def tourn(x):\n",
        "  if x == 'Fifa World Cup':\n",
        "    return 'world cup'\n",
        "  elif x == 'Friendly':\n",
        "    return 'friendly'\n",
        "  else:\n",
        "    return 'others'"
      ],
      "execution_count": null,
      "outputs": []
    },
    {
      "cell_type": "code",
      "metadata": {
        "id": "kBHGDUXDHa5K"
      },
      "source": [
        "#applying function of the 3 tournaments\n",
        "df['tourn'] = df['tournament'].apply(lambda x: tourn(x))"
      ],
      "execution_count": null,
      "outputs": []
    },
    {
      "cell_type": "code",
      "metadata": {
        "colab": {
          "base_uri": "https://localhost:8080/",
          "height": 414
        },
        "id": "RPnn8nIHH-CH",
        "outputId": "fe017304-bc72-49eb-a8ba-cbf2199492e7"
      },
      "source": [
        "df.drop('tournament',axis=1)"
      ],
      "execution_count": null,
      "outputs": [
        {
          "output_type": "execute_result",
          "data": {
            "text/html": [
              "<div>\n",
              "<style scoped>\n",
              "    .dataframe tbody tr th:only-of-type {\n",
              "        vertical-align: middle;\n",
              "    }\n",
              "\n",
              "    .dataframe tbody tr th {\n",
              "        vertical-align: top;\n",
              "    }\n",
              "\n",
              "    .dataframe thead th {\n",
              "        text-align: right;\n",
              "    }\n",
              "</style>\n",
              "<table border=\"1\" class=\"dataframe\">\n",
              "  <thead>\n",
              "    <tr style=\"text-align: right;\">\n",
              "      <th></th>\n",
              "      <th>home_team</th>\n",
              "      <th>away_team</th>\n",
              "      <th>home_score</th>\n",
              "      <th>away_score</th>\n",
              "      <th>city</th>\n",
              "      <th>country</th>\n",
              "      <th>neutral</th>\n",
              "      <th>month</th>\n",
              "      <th>year</th>\n",
              "      <th>hometeam_rank</th>\n",
              "      <th>awayteam_rank</th>\n",
              "      <th>tourn</th>\n",
              "    </tr>\n",
              "  </thead>\n",
              "  <tbody>\n",
              "    <tr>\n",
              "      <th>0</th>\n",
              "      <td>Bolivia</td>\n",
              "      <td>Uruguay</td>\n",
              "      <td>3</td>\n",
              "      <td>1</td>\n",
              "      <td>La Paz</td>\n",
              "      <td>Bolivia</td>\n",
              "      <td>1</td>\n",
              "      <td>8</td>\n",
              "      <td>1993</td>\n",
              "      <td>59.0</td>\n",
              "      <td>22.0</td>\n",
              "      <td>others</td>\n",
              "    </tr>\n",
              "    <tr>\n",
              "      <th>1</th>\n",
              "      <td>Brazil</td>\n",
              "      <td>Mexico</td>\n",
              "      <td>1</td>\n",
              "      <td>1</td>\n",
              "      <td>Maceió</td>\n",
              "      <td>Brazil</td>\n",
              "      <td>1</td>\n",
              "      <td>8</td>\n",
              "      <td>1993</td>\n",
              "      <td>8.0</td>\n",
              "      <td>14.0</td>\n",
              "      <td>friendly</td>\n",
              "    </tr>\n",
              "    <tr>\n",
              "      <th>2</th>\n",
              "      <td>Ecuador</td>\n",
              "      <td>Venezuela</td>\n",
              "      <td>5</td>\n",
              "      <td>0</td>\n",
              "      <td>Quito</td>\n",
              "      <td>Ecuador</td>\n",
              "      <td>1</td>\n",
              "      <td>8</td>\n",
              "      <td>1993</td>\n",
              "      <td>35.0</td>\n",
              "      <td>94.0</td>\n",
              "      <td>others</td>\n",
              "    </tr>\n",
              "    <tr>\n",
              "      <th>3</th>\n",
              "      <td>Guinea</td>\n",
              "      <td>Sierra Leone</td>\n",
              "      <td>1</td>\n",
              "      <td>0</td>\n",
              "      <td>Conakry</td>\n",
              "      <td>Guinea</td>\n",
              "      <td>1</td>\n",
              "      <td>8</td>\n",
              "      <td>1993</td>\n",
              "      <td>65.0</td>\n",
              "      <td>86.0</td>\n",
              "      <td>friendly</td>\n",
              "    </tr>\n",
              "    <tr>\n",
              "      <th>4</th>\n",
              "      <td>Guinea</td>\n",
              "      <td>Sierra Leone</td>\n",
              "      <td>1</td>\n",
              "      <td>0</td>\n",
              "      <td>Conakry</td>\n",
              "      <td>Guinea</td>\n",
              "      <td>1</td>\n",
              "      <td>8</td>\n",
              "      <td>1993</td>\n",
              "      <td>65.0</td>\n",
              "      <td>86.0</td>\n",
              "      <td>friendly</td>\n",
              "    </tr>\n",
              "    <tr>\n",
              "      <th>...</th>\n",
              "      <td>...</td>\n",
              "      <td>...</td>\n",
              "      <td>...</td>\n",
              "      <td>...</td>\n",
              "      <td>...</td>\n",
              "      <td>...</td>\n",
              "      <td>...</td>\n",
              "      <td>...</td>\n",
              "      <td>...</td>\n",
              "      <td>...</td>\n",
              "      <td>...</td>\n",
              "      <td>...</td>\n",
              "    </tr>\n",
              "    <tr>\n",
              "      <th>23064</th>\n",
              "      <td>Belgium</td>\n",
              "      <td>Costa Rica</td>\n",
              "      <td>4</td>\n",
              "      <td>1</td>\n",
              "      <td>Brussels</td>\n",
              "      <td>Belgium</td>\n",
              "      <td>1</td>\n",
              "      <td>6</td>\n",
              "      <td>2018</td>\n",
              "      <td>3.0</td>\n",
              "      <td>23.0</td>\n",
              "      <td>friendly</td>\n",
              "    </tr>\n",
              "    <tr>\n",
              "      <th>23066</th>\n",
              "      <td>Poland</td>\n",
              "      <td>Lithuania</td>\n",
              "      <td>4</td>\n",
              "      <td>0</td>\n",
              "      <td>Warsaw</td>\n",
              "      <td>Poland</td>\n",
              "      <td>1</td>\n",
              "      <td>6</td>\n",
              "      <td>2018</td>\n",
              "      <td>8.0</td>\n",
              "      <td>126.0</td>\n",
              "      <td>friendly</td>\n",
              "    </tr>\n",
              "    <tr>\n",
              "      <th>23067</th>\n",
              "      <td>Russia</td>\n",
              "      <td>Saudi Arabia</td>\n",
              "      <td>5</td>\n",
              "      <td>0</td>\n",
              "      <td>Moscow</td>\n",
              "      <td>Russia</td>\n",
              "      <td>1</td>\n",
              "      <td>6</td>\n",
              "      <td>2018</td>\n",
              "      <td>70.0</td>\n",
              "      <td>67.0</td>\n",
              "      <td>others</td>\n",
              "    </tr>\n",
              "    <tr>\n",
              "      <th>23083</th>\n",
              "      <td>Russia</td>\n",
              "      <td>Egypt</td>\n",
              "      <td>3</td>\n",
              "      <td>1</td>\n",
              "      <td>St. Petersburg</td>\n",
              "      <td>Russia</td>\n",
              "      <td>1</td>\n",
              "      <td>6</td>\n",
              "      <td>2018</td>\n",
              "      <td>70.0</td>\n",
              "      <td>45.0</td>\n",
              "      <td>others</td>\n",
              "    </tr>\n",
              "    <tr>\n",
              "      <th>23099</th>\n",
              "      <td>Russia</td>\n",
              "      <td>Uruguay</td>\n",
              "      <td>0</td>\n",
              "      <td>3</td>\n",
              "      <td>Samara</td>\n",
              "      <td>Russia</td>\n",
              "      <td>1</td>\n",
              "      <td>6</td>\n",
              "      <td>2018</td>\n",
              "      <td>70.0</td>\n",
              "      <td>14.0</td>\n",
              "      <td>others</td>\n",
              "    </tr>\n",
              "  </tbody>\n",
              "</table>\n",
              "<p>13110 rows × 12 columns</p>\n",
              "</div>"
            ],
            "text/plain": [
              "      home_team     away_team  ...  awayteam_rank     tourn\n",
              "0       Bolivia       Uruguay  ...           22.0    others\n",
              "1        Brazil        Mexico  ...           14.0  friendly\n",
              "2       Ecuador     Venezuela  ...           94.0    others\n",
              "3        Guinea  Sierra Leone  ...           86.0  friendly\n",
              "4        Guinea  Sierra Leone  ...           86.0  friendly\n",
              "...         ...           ...  ...            ...       ...\n",
              "23064   Belgium    Costa Rica  ...           23.0  friendly\n",
              "23066    Poland     Lithuania  ...          126.0  friendly\n",
              "23067    Russia  Saudi Arabia  ...           67.0    others\n",
              "23083    Russia         Egypt  ...           45.0    others\n",
              "23099    Russia       Uruguay  ...           14.0    others\n",
              "\n",
              "[13110 rows x 12 columns]"
            ]
          },
          "metadata": {
            "tags": []
          },
          "execution_count": 47
        }
      ]
    },
    {
      "cell_type": "markdown",
      "metadata": {
        "id": "19wyC9iTINAL"
      },
      "source": [
        "## Performing Polynomial Regression"
      ]
    },
    {
      "cell_type": "markdown",
      "metadata": {
        "id": "PL3hhr-0IgBG"
      },
      "source": [
        "Checking multicollinearity"
      ]
    },
    {
      "cell_type": "code",
      "metadata": {
        "colab": {
          "base_uri": "https://localhost:8080/",
          "height": 263
        },
        "id": "hkbWI15VIUCx",
        "outputId": "ac84bbc4-a51b-4cf1-fea1-93ed6e5b54b5"
      },
      "source": [
        "#showing if the variables are related to one another.\n",
        "correlations =df.corr()\n",
        "correlations"
      ],
      "execution_count": null,
      "outputs": [
        {
          "output_type": "execute_result",
          "data": {
            "text/html": [
              "<div>\n",
              "<style scoped>\n",
              "    .dataframe tbody tr th:only-of-type {\n",
              "        vertical-align: middle;\n",
              "    }\n",
              "\n",
              "    .dataframe tbody tr th {\n",
              "        vertical-align: top;\n",
              "    }\n",
              "\n",
              "    .dataframe thead th {\n",
              "        text-align: right;\n",
              "    }\n",
              "</style>\n",
              "<table border=\"1\" class=\"dataframe\">\n",
              "  <thead>\n",
              "    <tr style=\"text-align: right;\">\n",
              "      <th></th>\n",
              "      <th>home_score</th>\n",
              "      <th>away_score</th>\n",
              "      <th>neutral</th>\n",
              "      <th>month</th>\n",
              "      <th>year</th>\n",
              "      <th>hometeam_rank</th>\n",
              "      <th>awayteam_rank</th>\n",
              "    </tr>\n",
              "  </thead>\n",
              "  <tbody>\n",
              "    <tr>\n",
              "      <th>home_score</th>\n",
              "      <td>1.000000</td>\n",
              "      <td>-0.127005</td>\n",
              "      <td>NaN</td>\n",
              "      <td>0.021311</td>\n",
              "      <td>-0.011306</td>\n",
              "      <td>-0.182733</td>\n",
              "      <td>0.276302</td>\n",
              "    </tr>\n",
              "    <tr>\n",
              "      <th>away_score</th>\n",
              "      <td>-0.127005</td>\n",
              "      <td>1.000000</td>\n",
              "      <td>NaN</td>\n",
              "      <td>0.025170</td>\n",
              "      <td>-0.010355</td>\n",
              "      <td>0.176019</td>\n",
              "      <td>-0.222283</td>\n",
              "    </tr>\n",
              "    <tr>\n",
              "      <th>neutral</th>\n",
              "      <td>NaN</td>\n",
              "      <td>NaN</td>\n",
              "      <td>NaN</td>\n",
              "      <td>NaN</td>\n",
              "      <td>NaN</td>\n",
              "      <td>NaN</td>\n",
              "      <td>NaN</td>\n",
              "    </tr>\n",
              "    <tr>\n",
              "      <th>month</th>\n",
              "      <td>0.021311</td>\n",
              "      <td>0.025170</td>\n",
              "      <td>NaN</td>\n",
              "      <td>1.000000</td>\n",
              "      <td>0.035060</td>\n",
              "      <td>-0.019313</td>\n",
              "      <td>-0.013206</td>\n",
              "    </tr>\n",
              "    <tr>\n",
              "      <th>year</th>\n",
              "      <td>-0.011306</td>\n",
              "      <td>-0.010355</td>\n",
              "      <td>NaN</td>\n",
              "      <td>0.035060</td>\n",
              "      <td>1.000000</td>\n",
              "      <td>0.112683</td>\n",
              "      <td>0.122327</td>\n",
              "    </tr>\n",
              "    <tr>\n",
              "      <th>hometeam_rank</th>\n",
              "      <td>-0.182733</td>\n",
              "      <td>0.176019</td>\n",
              "      <td>NaN</td>\n",
              "      <td>-0.019313</td>\n",
              "      <td>0.112683</td>\n",
              "      <td>1.000000</td>\n",
              "      <td>0.433032</td>\n",
              "    </tr>\n",
              "    <tr>\n",
              "      <th>awayteam_rank</th>\n",
              "      <td>0.276302</td>\n",
              "      <td>-0.222283</td>\n",
              "      <td>NaN</td>\n",
              "      <td>-0.013206</td>\n",
              "      <td>0.122327</td>\n",
              "      <td>0.433032</td>\n",
              "      <td>1.000000</td>\n",
              "    </tr>\n",
              "  </tbody>\n",
              "</table>\n",
              "</div>"
            ],
            "text/plain": [
              "               home_score  away_score  ...  hometeam_rank  awayteam_rank\n",
              "home_score       1.000000   -0.127005  ...      -0.182733       0.276302\n",
              "away_score      -0.127005    1.000000  ...       0.176019      -0.222283\n",
              "neutral               NaN         NaN  ...            NaN            NaN\n",
              "month            0.021311    0.025170  ...      -0.019313      -0.013206\n",
              "year            -0.011306   -0.010355  ...       0.112683       0.122327\n",
              "hometeam_rank   -0.182733    0.176019  ...       1.000000       0.433032\n",
              "awayteam_rank    0.276302   -0.222283  ...       0.433032       1.000000\n",
              "\n",
              "[7 rows x 7 columns]"
            ]
          },
          "metadata": {
            "tags": []
          },
          "execution_count": 48
        }
      ]
    },
    {
      "cell_type": "code",
      "metadata": {
        "colab": {
          "base_uri": "https://localhost:8080/",
          "height": 263
        },
        "id": "V-XCjnTBIKUC",
        "outputId": "994aaf9a-0f91-4bb6-e37d-acccfac2f293"
      },
      "source": [
        "#calculate the VIF score for each variable\n",
        "pd.DataFrame(np.linalg.inv(correlations.values), index = correlations.index, columns=correlations.columns)"
      ],
      "execution_count": null,
      "outputs": [
        {
          "output_type": "execute_result",
          "data": {
            "text/html": [
              "<div>\n",
              "<style scoped>\n",
              "    .dataframe tbody tr th:only-of-type {\n",
              "        vertical-align: middle;\n",
              "    }\n",
              "\n",
              "    .dataframe tbody tr th {\n",
              "        vertical-align: top;\n",
              "    }\n",
              "\n",
              "    .dataframe thead th {\n",
              "        text-align: right;\n",
              "    }\n",
              "</style>\n",
              "<table border=\"1\" class=\"dataframe\">\n",
              "  <thead>\n",
              "    <tr style=\"text-align: right;\">\n",
              "      <th></th>\n",
              "      <th>home_score</th>\n",
              "      <th>away_score</th>\n",
              "      <th>neutral</th>\n",
              "      <th>month</th>\n",
              "      <th>year</th>\n",
              "      <th>hometeam_rank</th>\n",
              "      <th>awayteam_rank</th>\n",
              "    </tr>\n",
              "  </thead>\n",
              "  <tbody>\n",
              "    <tr>\n",
              "      <th>home_score</th>\n",
              "      <td>NaN</td>\n",
              "      <td>NaN</td>\n",
              "      <td>NaN</td>\n",
              "      <td>NaN</td>\n",
              "      <td>NaN</td>\n",
              "      <td>NaN</td>\n",
              "      <td>NaN</td>\n",
              "    </tr>\n",
              "    <tr>\n",
              "      <th>away_score</th>\n",
              "      <td>NaN</td>\n",
              "      <td>NaN</td>\n",
              "      <td>NaN</td>\n",
              "      <td>NaN</td>\n",
              "      <td>NaN</td>\n",
              "      <td>NaN</td>\n",
              "      <td>NaN</td>\n",
              "    </tr>\n",
              "    <tr>\n",
              "      <th>neutral</th>\n",
              "      <td>NaN</td>\n",
              "      <td>NaN</td>\n",
              "      <td>NaN</td>\n",
              "      <td>NaN</td>\n",
              "      <td>NaN</td>\n",
              "      <td>NaN</td>\n",
              "      <td>NaN</td>\n",
              "    </tr>\n",
              "    <tr>\n",
              "      <th>month</th>\n",
              "      <td>NaN</td>\n",
              "      <td>NaN</td>\n",
              "      <td>NaN</td>\n",
              "      <td>NaN</td>\n",
              "      <td>NaN</td>\n",
              "      <td>NaN</td>\n",
              "      <td>NaN</td>\n",
              "    </tr>\n",
              "    <tr>\n",
              "      <th>year</th>\n",
              "      <td>NaN</td>\n",
              "      <td>NaN</td>\n",
              "      <td>NaN</td>\n",
              "      <td>NaN</td>\n",
              "      <td>NaN</td>\n",
              "      <td>NaN</td>\n",
              "      <td>NaN</td>\n",
              "    </tr>\n",
              "    <tr>\n",
              "      <th>hometeam_rank</th>\n",
              "      <td>NaN</td>\n",
              "      <td>NaN</td>\n",
              "      <td>NaN</td>\n",
              "      <td>NaN</td>\n",
              "      <td>NaN</td>\n",
              "      <td>NaN</td>\n",
              "      <td>NaN</td>\n",
              "    </tr>\n",
              "    <tr>\n",
              "      <th>awayteam_rank</th>\n",
              "      <td>NaN</td>\n",
              "      <td>NaN</td>\n",
              "      <td>NaN</td>\n",
              "      <td>NaN</td>\n",
              "      <td>NaN</td>\n",
              "      <td>NaN</td>\n",
              "      <td>NaN</td>\n",
              "    </tr>\n",
              "  </tbody>\n",
              "</table>\n",
              "</div>"
            ],
            "text/plain": [
              "               home_score  away_score  ...  hometeam_rank  awayteam_rank\n",
              "home_score            NaN         NaN  ...            NaN            NaN\n",
              "away_score            NaN         NaN  ...            NaN            NaN\n",
              "neutral               NaN         NaN  ...            NaN            NaN\n",
              "month                 NaN         NaN  ...            NaN            NaN\n",
              "year                  NaN         NaN  ...            NaN            NaN\n",
              "hometeam_rank         NaN         NaN  ...            NaN            NaN\n",
              "awayteam_rank         NaN         NaN  ...            NaN            NaN\n",
              "\n",
              "[7 rows x 7 columns]"
            ]
          },
          "metadata": {
            "tags": []
          },
          "execution_count": 49
        }
      ]
    },
    {
      "cell_type": "markdown",
      "metadata": {
        "id": "1L5B7FnoKZsR"
      },
      "source": [
        "The awayteam_rank has a VIF of 1.59 which is quite high, lets remove it to see if results will improve."
      ]
    },
    {
      "cell_type": "code",
      "metadata": {
        "colab": {
          "base_uri": "https://localhost:8080/",
          "height": 232
        },
        "id": "pQwph9UpKQKJ",
        "outputId": "37c864f4-3a17-425f-ab48-3d8b99d1dc9a"
      },
      "source": [
        "drop_df = df.drop(columns=['awayteam_rank'])\n",
        "\n",
        "correlations = drop_df.corr()\n",
        "pd.DataFrame(np.linalg.inv(correlations.values), index = correlations.index, columns=correlations.columns)\n",
        "\n",
        "#there is slight improvement"
      ],
      "execution_count": null,
      "outputs": [
        {
          "output_type": "execute_result",
          "data": {
            "text/html": [
              "<div>\n",
              "<style scoped>\n",
              "    .dataframe tbody tr th:only-of-type {\n",
              "        vertical-align: middle;\n",
              "    }\n",
              "\n",
              "    .dataframe tbody tr th {\n",
              "        vertical-align: top;\n",
              "    }\n",
              "\n",
              "    .dataframe thead th {\n",
              "        text-align: right;\n",
              "    }\n",
              "</style>\n",
              "<table border=\"1\" class=\"dataframe\">\n",
              "  <thead>\n",
              "    <tr style=\"text-align: right;\">\n",
              "      <th></th>\n",
              "      <th>home_score</th>\n",
              "      <th>away_score</th>\n",
              "      <th>neutral</th>\n",
              "      <th>month</th>\n",
              "      <th>year</th>\n",
              "      <th>hometeam_rank</th>\n",
              "    </tr>\n",
              "  </thead>\n",
              "  <tbody>\n",
              "    <tr>\n",
              "      <th>home_score</th>\n",
              "      <td>NaN</td>\n",
              "      <td>NaN</td>\n",
              "      <td>NaN</td>\n",
              "      <td>NaN</td>\n",
              "      <td>NaN</td>\n",
              "      <td>NaN</td>\n",
              "    </tr>\n",
              "    <tr>\n",
              "      <th>away_score</th>\n",
              "      <td>NaN</td>\n",
              "      <td>NaN</td>\n",
              "      <td>NaN</td>\n",
              "      <td>NaN</td>\n",
              "      <td>NaN</td>\n",
              "      <td>NaN</td>\n",
              "    </tr>\n",
              "    <tr>\n",
              "      <th>neutral</th>\n",
              "      <td>NaN</td>\n",
              "      <td>NaN</td>\n",
              "      <td>NaN</td>\n",
              "      <td>NaN</td>\n",
              "      <td>NaN</td>\n",
              "      <td>NaN</td>\n",
              "    </tr>\n",
              "    <tr>\n",
              "      <th>month</th>\n",
              "      <td>NaN</td>\n",
              "      <td>NaN</td>\n",
              "      <td>NaN</td>\n",
              "      <td>NaN</td>\n",
              "      <td>NaN</td>\n",
              "      <td>NaN</td>\n",
              "    </tr>\n",
              "    <tr>\n",
              "      <th>year</th>\n",
              "      <td>NaN</td>\n",
              "      <td>NaN</td>\n",
              "      <td>NaN</td>\n",
              "      <td>NaN</td>\n",
              "      <td>NaN</td>\n",
              "      <td>NaN</td>\n",
              "    </tr>\n",
              "    <tr>\n",
              "      <th>hometeam_rank</th>\n",
              "      <td>NaN</td>\n",
              "      <td>NaN</td>\n",
              "      <td>NaN</td>\n",
              "      <td>NaN</td>\n",
              "      <td>NaN</td>\n",
              "      <td>NaN</td>\n",
              "    </tr>\n",
              "  </tbody>\n",
              "</table>\n",
              "</div>"
            ],
            "text/plain": [
              "               home_score  away_score  neutral  month  year  hometeam_rank\n",
              "home_score            NaN         NaN      NaN    NaN   NaN            NaN\n",
              "away_score            NaN         NaN      NaN    NaN   NaN            NaN\n",
              "neutral               NaN         NaN      NaN    NaN   NaN            NaN\n",
              "month                 NaN         NaN      NaN    NaN   NaN            NaN\n",
              "year                  NaN         NaN      NaN    NaN   NaN            NaN\n",
              "hometeam_rank         NaN         NaN      NaN    NaN   NaN            NaN"
            ]
          },
          "metadata": {
            "tags": []
          },
          "execution_count": 50
        }
      ]
    },
    {
      "cell_type": "code",
      "metadata": {
        "colab": {
          "base_uri": "https://localhost:8080/"
        },
        "id": "CjvyikixLIFa",
        "outputId": "1bfb636f-45b3-4a54-b06a-2de82b0d82a3"
      },
      "source": [
        "#predicting home score using home rank\n",
        "#selecting columns to perform polinomial regression\n",
        "x = df['hometeam_rank'].values.reshape(-1,1)\n",
        "y = df['home_score'].values\n",
        "print(x)\n",
        "print(y)"
      ],
      "execution_count": null,
      "outputs": [
        {
          "output_type": "stream",
          "text": [
            "[[59.]\n",
            " [ 8.]\n",
            " [35.]\n",
            " ...\n",
            " [70.]\n",
            " [70.]\n",
            " [70.]]\n",
            "[3 1 5 ... 5 3 0]\n"
          ],
          "name": "stdout"
        }
      ]
    },
    {
      "cell_type": "code",
      "metadata": {
        "colab": {
          "base_uri": "https://localhost:8080/",
          "height": 295
        },
        "id": "9jrdy3SNLetC",
        "outputId": "e4da5e8b-9fd4-4fab-a4af-7e64d0d2936f"
      },
      "source": [
        "#plotting a scatter plot to visualize the data\n",
        "plt.scatter(x, y, color='magenta') \n",
        "plt.title('Home Score')\n",
        "plt.xlabel('Home Rank')\n",
        "plt.ylabel('Home Scores')\n",
        "plt.show()"
      ],
      "execution_count": null,
      "outputs": [
        {
          "output_type": "display_data",
          "data": {
            "image/png": "[encoded data removed]",
            "text/plain": [
              "<Figure size 432x288 with 1 Axes>"
            ]
          },
          "metadata": {
            "tags": [],
            "needs_background": "light"
          }
        }
      ]
    },
    {
      "cell_type": "code",
      "metadata": {
        "id": "9xdWdUecLrL4"
      },
      "source": [
        "\n",
        "# Splitting the dataset into training and testing sets\n",
        "x_train, x_test, y_train, y_test = train_test_split(x, y, test_size = 0.2, random_state = 124)\n",
        "\n",
        "# Standardising values of x_train and x_test using standard scaler\n",
        "sc = StandardScaler()\n",
        "x_train = sc.fit_transform(x_train)\n",
        "x_test = sc.transform(x_test)\n",
        "\n",
        "# Fitting the polynomial features to the X_train and X_test\n",
        "poly_features = PolynomialFeatures(degree = 1)\n",
        "x_train = poly_features.fit_transform(x_train)\n",
        "x_test = poly_features.fit_transform(x_test)\n",
        "\n",
        "# Training our model\n",
        "model= LinearRegression()\n",
        "model.fit(x_train, y_train)\n",
        "\n",
        "# Making prediction model\n",
        "y_pred=model.predict(x_test)"
      ],
      "execution_count": null,
      "outputs": []
    },
    {
      "cell_type": "code",
      "metadata": {
        "colab": {
          "base_uri": "https://localhost:8080/"
        },
        "id": "s6FNrkUJQbNl",
        "outputId": "4c692390-5bc8-4bc6-9136-92f4061f50af"
      },
      "source": [
        "# Creating a  dictionary to hold parameters\n",
        "\n",
        "params = {'normalize': [True, False],\n",
        "         'fit_intercept': [True, False]}\n",
        "\n",
        "# Creating a cross validation of 5 folds\n",
        "\n",
        "kfold = KFold(n_splits = 5)\n",
        "\n",
        "# Using grid search to find the optimal parameters\n",
        "grid_search = GridSearchCV(estimator=model, param_grid = params, cv = kfold)\n",
        "\n",
        "# Fitting the grid search \n",
        "grid_search_results = grid_search.fit(x, y)\n",
        "\n",
        "# Displaying the best parameters and the the best score\n",
        "print(f'The best score is {grid_search.best_score_}')"
      ],
      "execution_count": null,
      "outputs": [
        {
          "output_type": "stream",
          "text": [
            "The best score is 0.03217610282292101\n"
          ],
          "name": "stdout"
        }
      ]
    },
    {
      "cell_type": "markdown",
      "metadata": {
        "id": "dICXhPY2RRcC"
      },
      "source": [
        "Plotting residual plot"
      ]
    },
    {
      "cell_type": "code",
      "metadata": {
        "colab": {
          "base_uri": "https://localhost:8080/",
          "height": 279
        },
        "id": "DBZUdwJgRcqo",
        "outputId": "adbaad65-0e47-4d60-942f-955ed1e6fdb5"
      },
      "source": [
        " #Plotting the residual plot\n",
        "# Residuals have been calculated by by substracting the test value from the predicted value\n",
        "residuals = np.subtract(y_pred, y_test)\n",
        "\n",
        "# Plotting the residual scatterplot\n",
        "plt.scatter(y_pred, residuals, color='black')\n",
        "plt.ylabel('residual')\n",
        "plt.xlabel('fitted values')\n",
        "plt.axhline(y= residuals.mean(), color='red', linewidth=1)\n",
        "plt.show()"
      ],
      "execution_count": null,
      "outputs": [
        {
          "output_type": "display_data",
          "data": {
            "image/png": "[encoded data removed]",
            "text/plain": [
              "<Figure size 432x288 with 1 Axes>"
            ]
          },
          "metadata": {
            "tags": [],
            "needs_background": "light"
          }
        }
      ]
    },
    {
      "cell_type": "markdown",
      "metadata": {
        "id": "DlLExpZMRyTg"
      },
      "source": [
        "Barlett's Test"
      ]
    },
    {
      "cell_type": "code",
      "metadata": {
        "id": "L1P7HOwKRxfh"
      },
      "source": [
        "import scipy as sp\n",
        "test, pvalue = sp.stats.bartlett(y_pred, residuals)"
      ],
      "execution_count": null,
      "outputs": []
    },
    {
      "cell_type": "code",
      "metadata": {
        "colab": {
          "base_uri": "https://localhost:8080/"
        },
        "id": "cgIS8_vVR62a",
        "outputId": "9aadd8ad-35ec-4570-c3c9-6435a62aba8b"
      },
      "source": [
        "# Calculating the critical value of the chi squared distribution, to compare it with the test_result\n",
        "freedom_degrees = len(y_pred) - 1\n",
        "probability =  1 - pvalue\n",
        "critical_value = sp.stats.chi2.ppf(probability, freedom_degrees)\n",
        "\n",
        "if (test > critical_value):\n",
        "  print('The variances are heterogenous')\n",
        "else:  \n",
        "  print('The variances are homogeneous')"
      ],
      "execution_count": null,
      "outputs": [
        {
          "output_type": "stream",
          "text": [
            "The variances are homogeneous\n"
          ],
          "name": "stdout"
        }
      ]
    },
    {
      "cell_type": "markdown",
      "metadata": {
        "id": "5p2BMvqmO1Tm"
      },
      "source": [
        "# Logistic Regression"
      ]
    },
    {
      "cell_type": "code",
      "metadata": {
        "id": "XpB2qTasNoIo"
      },
      "source": [
        "#logistic Regression\n",
        "model = LogisticRegression()\n",
        "model.fit(x_train, y_train)\n",
        "\n",
        "# Making predictions\n",
        "y_pred = model.predict(x_test)"
      ],
      "execution_count": null,
      "outputs": []
    },
    {
      "cell_type": "code",
      "metadata": {
        "colab": {
          "base_uri": "https://localhost:8080/"
        },
        "id": "zcDv3mXFSbxE",
        "outputId": "ad207406-f796-4490-caf6-fac82ab23b1e"
      },
      "source": [
        "# confusion matrix\n",
        "from sklearn.metrics import confusion_matrix\n",
        "print(confusion_matrix(y_pred,y_test))"
      ],
      "execution_count": null,
      "outputs": [
        {
          "output_type": "stream",
          "text": [
            "[[163 150  68  43  16   9]\n",
            " [513 659 535 294 119  53]\n",
            " [  0   0   0   0   0   0]\n",
            " [  0   0   0   0   0   0]\n",
            " [  0   0   0   0   0   0]\n",
            " [  0   0   0   0   0   0]]\n"
          ],
          "name": "stdout"
        }
      ]
    },
    {
      "cell_type": "code",
      "metadata": {
        "colab": {
          "base_uri": "https://localhost:8080/"
        },
        "id": "9-Xz6tvXShg8",
        "outputId": "86514fe6-0275-4bd7-c8d0-ef4b5274c976"
      },
      "source": [
        "params = {'C': [1, 5],\n",
        "         'penalty': ['l1', 'l2']}\n",
        "\n",
        "model = LogisticRegression()\n",
        "\n",
        "# Creating a cross validation of 5 folds\n",
        "kfold = KFold(n_splits = 5)\n",
        "\n",
        "# Using grid search to find the optimal parameters\n",
        "grid_search = GridSearchCV(estimator=model, param_grid = params, cv = kfold)\n",
        "\n",
        "# Fitting the grid search \n",
        "grid_search_results = grid_search.fit(x, y)\n",
        "\n",
        "# Displaying the best parameters and the the best score\n",
        "print(f'The best score is {grid_search.best_score_}')"
      ],
      "execution_count": null,
      "outputs": [
        {
          "output_type": "stream",
          "text": [
            "The best score is 0.31868802440884825\n"
          ],
          "name": "stdout"
        }
      ]
    },
    {
      "cell_type": "code",
      "metadata": {
        "id": "p0OcXgNBUpfu"
      },
      "source": [
        "df_new = df[['home_team', 'away_team', 'home_score', 'away_score', 'year', 'hometeam_rank', 'awayteam_rank', 'tourn']]"
      ],
      "execution_count": null,
      "outputs": []
    },
    {
      "cell_type": "code",
      "metadata": {
        "colab": {
          "base_uri": "https://localhost:8080/",
          "height": 357
        },
        "id": "PWgzZh2fUtYA",
        "outputId": "bc15ffbe-907a-4f1b-ccce-ad3b0dd4eed4"
      },
      "source": [
        "# Checking for independence between features\n",
        "# \n",
        "sns.heatmap(df_new.corr())"
      ],
      "execution_count": null,
      "outputs": [
        {
          "output_type": "execute_result",
          "data": {
            "text/plain": [
              "<matplotlib.axes._subplots.AxesSubplot at 0x7fc4111b90d0>"
            ]
          },
          "metadata": {
            "tags": []
          },
          "execution_count": 67
        },
        {
          "output_type": "display_data",
          "data": {
            "image/png": "[encoded data removed]",
            "text/plain": [
              "<Figure size 432x288 with 2 Axes>"
            ]
          },
          "metadata": {
            "tags": [],
            "needs_background": "light"
          }
        }
      ]
    }
  ]
}